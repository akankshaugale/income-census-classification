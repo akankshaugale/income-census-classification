{
 "cells": [
  {
   "cell_type": "markdown",
   "id": "0bb6c060-ef42-481d-ac82-990df24d5aa2",
   "metadata": {
    "id": "0bb6c060-ef42-481d-ac82-990df24d5aa2"
   },
   "source": [
    "# Problem Statement\n",
    " * Predict whether income of individual exceeds $50K/year or not based on attributes given."
   ]
  },
  {
   "cell_type": "markdown",
   "id": "0fc5035c-6651-4fcb-8d21-aa09136f3c76",
   "metadata": {
    "id": "0fc5035c-6651-4fcb-8d21-aa09136f3c76"
   },
   "source": [
    "# Description\n",
    "* as the problem of enequality of income has become very prominent over the years, governments of different countrieshave been trying to address the problem so as to improve the economic stability of a nation.\n",
    "* In this study, Machine Learning classification techniques is used in order to predict whether person's yearly income falls in the income catagory of either greater thn 50k dollars or less than equal to 50k dollars category based on a certain set of attributes. An analysis of this kind helps to figure out which individual attributes are necessary in improving an individual's income so that focus can be put on those specific factors so as to level up the income of individuals."
   ]
  },
  {
   "cell_type": "code",
   "execution_count": 98,
   "id": "fc18940e-4ab9-4978-ba35-738362f1b07a",
   "metadata": {
    "id": "fc18940e-4ab9-4978-ba35-738362f1b07a"
   },
   "outputs": [],
   "source": [
    "import numpy as np\n",
    "import pandas as pd\n",
    "import matplotlib.pyplot as plt\n",
    "%matplotlib inline\n",
    "import seaborn as sns\n",
    "from warnings import filterwarnings\n",
    "filterwarnings('ignore')"
   ]
  },
  {
   "cell_type": "markdown",
   "id": "9965bbbb-9633-4d08-a60c-351b8daf4908",
   "metadata": {
    "id": "9965bbbb-9633-4d08-a60c-351b8daf4908"
   },
   "source": [
    "# Data Ingestion"
   ]
  },
  {
   "cell_type": "code",
   "execution_count": 99,
   "id": "c84a3f69-51f4-4218-8baa-0279786659cd",
   "metadata": {
    "id": "c84a3f69-51f4-4218-8baa-0279786659cd"
   },
   "outputs": [],
   "source": [
    "df=pd.read_csv('adult.csv')"
   ]
  },
  {
   "cell_type": "code",
   "execution_count": 100,
   "id": "91111c8f-1bd2-445c-b71c-f3795d71aefb",
   "metadata": {
    "colab": {
     "base_uri": "https://localhost:8080/",
     "height": 340
    },
    "id": "91111c8f-1bd2-445c-b71c-f3795d71aefb",
    "outputId": "577639ac-96ce-49c2-ea09-848d5536ef41"
   },
   "outputs": [
    {
     "data": {
      "text/html": [
       "<div>\n",
       "<style scoped>\n",
       "    .dataframe tbody tr th:only-of-type {\n",
       "        vertical-align: middle;\n",
       "    }\n",
       "\n",
       "    .dataframe tbody tr th {\n",
       "        vertical-align: top;\n",
       "    }\n",
       "\n",
       "    .dataframe thead th {\n",
       "        text-align: right;\n",
       "    }\n",
       "</style>\n",
       "<table border=\"1\" class=\"dataframe\">\n",
       "  <thead>\n",
       "    <tr style=\"text-align: right;\">\n",
       "      <th></th>\n",
       "      <th>age</th>\n",
       "      <th>workclass</th>\n",
       "      <th>fnlwgt</th>\n",
       "      <th>education</th>\n",
       "      <th>education.num</th>\n",
       "      <th>marital.status</th>\n",
       "      <th>occupation</th>\n",
       "      <th>relationship</th>\n",
       "      <th>race</th>\n",
       "      <th>sex</th>\n",
       "      <th>capital.gain</th>\n",
       "      <th>capital.loss</th>\n",
       "      <th>hours.per.week</th>\n",
       "      <th>native.country</th>\n",
       "      <th>income</th>\n",
       "    </tr>\n",
       "  </thead>\n",
       "  <tbody>\n",
       "    <tr>\n",
       "      <th>0</th>\n",
       "      <td>90</td>\n",
       "      <td>?</td>\n",
       "      <td>77053</td>\n",
       "      <td>HS-grad</td>\n",
       "      <td>9</td>\n",
       "      <td>Widowed</td>\n",
       "      <td>?</td>\n",
       "      <td>Not-in-family</td>\n",
       "      <td>White</td>\n",
       "      <td>Female</td>\n",
       "      <td>0</td>\n",
       "      <td>4356</td>\n",
       "      <td>40</td>\n",
       "      <td>United-States</td>\n",
       "      <td>&lt;=50K</td>\n",
       "    </tr>\n",
       "    <tr>\n",
       "      <th>1</th>\n",
       "      <td>82</td>\n",
       "      <td>Private</td>\n",
       "      <td>132870</td>\n",
       "      <td>HS-grad</td>\n",
       "      <td>9</td>\n",
       "      <td>Widowed</td>\n",
       "      <td>Exec-managerial</td>\n",
       "      <td>Not-in-family</td>\n",
       "      <td>White</td>\n",
       "      <td>Female</td>\n",
       "      <td>0</td>\n",
       "      <td>4356</td>\n",
       "      <td>18</td>\n",
       "      <td>United-States</td>\n",
       "      <td>&lt;=50K</td>\n",
       "    </tr>\n",
       "    <tr>\n",
       "      <th>2</th>\n",
       "      <td>66</td>\n",
       "      <td>?</td>\n",
       "      <td>186061</td>\n",
       "      <td>Some-college</td>\n",
       "      <td>10</td>\n",
       "      <td>Widowed</td>\n",
       "      <td>?</td>\n",
       "      <td>Unmarried</td>\n",
       "      <td>Black</td>\n",
       "      <td>Female</td>\n",
       "      <td>0</td>\n",
       "      <td>4356</td>\n",
       "      <td>40</td>\n",
       "      <td>United-States</td>\n",
       "      <td>&lt;=50K</td>\n",
       "    </tr>\n",
       "    <tr>\n",
       "      <th>3</th>\n",
       "      <td>54</td>\n",
       "      <td>Private</td>\n",
       "      <td>140359</td>\n",
       "      <td>7th-8th</td>\n",
       "      <td>4</td>\n",
       "      <td>Divorced</td>\n",
       "      <td>Machine-op-inspct</td>\n",
       "      <td>Unmarried</td>\n",
       "      <td>White</td>\n",
       "      <td>Female</td>\n",
       "      <td>0</td>\n",
       "      <td>3900</td>\n",
       "      <td>40</td>\n",
       "      <td>United-States</td>\n",
       "      <td>&lt;=50K</td>\n",
       "    </tr>\n",
       "    <tr>\n",
       "      <th>4</th>\n",
       "      <td>41</td>\n",
       "      <td>Private</td>\n",
       "      <td>264663</td>\n",
       "      <td>Some-college</td>\n",
       "      <td>10</td>\n",
       "      <td>Separated</td>\n",
       "      <td>Prof-specialty</td>\n",
       "      <td>Own-child</td>\n",
       "      <td>White</td>\n",
       "      <td>Female</td>\n",
       "      <td>0</td>\n",
       "      <td>3900</td>\n",
       "      <td>40</td>\n",
       "      <td>United-States</td>\n",
       "      <td>&lt;=50K</td>\n",
       "    </tr>\n",
       "  </tbody>\n",
       "</table>\n",
       "</div>"
      ],
      "text/plain": [
       "   age workclass  fnlwgt     education  education.num marital.status  \\\n",
       "0   90         ?   77053       HS-grad              9        Widowed   \n",
       "1   82   Private  132870       HS-grad              9        Widowed   \n",
       "2   66         ?  186061  Some-college             10        Widowed   \n",
       "3   54   Private  140359       7th-8th              4       Divorced   \n",
       "4   41   Private  264663  Some-college             10      Separated   \n",
       "\n",
       "          occupation   relationship   race     sex  capital.gain  \\\n",
       "0                  ?  Not-in-family  White  Female             0   \n",
       "1    Exec-managerial  Not-in-family  White  Female             0   \n",
       "2                  ?      Unmarried  Black  Female             0   \n",
       "3  Machine-op-inspct      Unmarried  White  Female             0   \n",
       "4     Prof-specialty      Own-child  White  Female             0   \n",
       "\n",
       "   capital.loss  hours.per.week native.country income  \n",
       "0          4356              40  United-States  <=50K  \n",
       "1          4356              18  United-States  <=50K  \n",
       "2          4356              40  United-States  <=50K  \n",
       "3          3900              40  United-States  <=50K  \n",
       "4          3900              40  United-States  <=50K  "
      ]
     },
     "execution_count": 100,
     "metadata": {},
     "output_type": "execute_result"
    }
   ],
   "source": [
    "df.head()"
   ]
  },
  {
   "cell_type": "code",
   "execution_count": 101,
   "id": "fb0a9319-4365-438c-8aa1-52497623771b",
   "metadata": {
    "colab": {
     "base_uri": "https://localhost:8080/"
    },
    "id": "fb0a9319-4365-438c-8aa1-52497623771b",
    "outputId": "4f0005e3-31d1-4337-e3c5-42fe6b169d31"
   },
   "outputs": [
    {
     "name": "stdout",
     "output_type": "stream",
     "text": [
      "<class 'pandas.core.frame.DataFrame'>\n",
      "RangeIndex: 32561 entries, 0 to 32560\n",
      "Data columns (total 15 columns):\n",
      " #   Column          Non-Null Count  Dtype \n",
      "---  ------          --------------  ----- \n",
      " 0   age             32561 non-null  int64 \n",
      " 1   workclass       32561 non-null  object\n",
      " 2   fnlwgt          32561 non-null  int64 \n",
      " 3   education       32561 non-null  object\n",
      " 4   education.num   32561 non-null  int64 \n",
      " 5   marital.status  32561 non-null  object\n",
      " 6   occupation      32561 non-null  object\n",
      " 7   relationship    32561 non-null  object\n",
      " 8   race            32561 non-null  object\n",
      " 9   sex             32561 non-null  object\n",
      " 10  capital.gain    32561 non-null  int64 \n",
      " 11  capital.loss    32561 non-null  int64 \n",
      " 12  hours.per.week  32561 non-null  int64 \n",
      " 13  native.country  32561 non-null  object\n",
      " 14  income          32561 non-null  object\n",
      "dtypes: int64(6), object(9)\n",
      "memory usage: 3.7+ MB\n"
     ]
    }
   ],
   "source": [
    "df.info()\n"
   ]
  },
  {
   "cell_type": "code",
   "execution_count": 102,
   "id": "7164897c-5cae-428b-a048-b0b3c600fce9",
   "metadata": {
    "colab": {
     "base_uri": "https://localhost:8080/"
    },
    "id": "7164897c-5cae-428b-a048-b0b3c600fce9",
    "outputId": "a6a1425d-5d80-4230-919e-70c9c94659fb"
   },
   "outputs": [
    {
     "data": {
      "text/plain": [
       "(32561, 15)"
      ]
     },
     "execution_count": 102,
     "metadata": {},
     "output_type": "execute_result"
    }
   ],
   "source": [
    "df.shape"
   ]
  },
  {
   "cell_type": "code",
   "execution_count": 103,
   "id": "67816aa0-cee2-46d1-8ec3-600b7d90a4ab",
   "metadata": {
    "colab": {
     "base_uri": "https://localhost:8080/"
    },
    "id": "67816aa0-cee2-46d1-8ec3-600b7d90a4ab",
    "outputId": "c696a43d-152c-493c-9cda-1349670daec3"
   },
   "outputs": [
    {
     "data": {
      "text/plain": [
       "488415"
      ]
     },
     "execution_count": 103,
     "metadata": {},
     "output_type": "execute_result"
    }
   ],
   "source": [
    "df.size"
   ]
  },
  {
   "cell_type": "code",
   "execution_count": 104,
   "id": "ddb69b69-2641-4226-b3bf-f9878c2cfabb",
   "metadata": {
    "id": "ddb69b69-2641-4226-b3bf-f9878c2cfabb"
   },
   "outputs": [],
   "source": [
    "df.drop(['relationship'],axis=1,inplace=True)"
   ]
  },
  {
   "cell_type": "code",
   "execution_count": 105,
   "id": "9600e6d6-8912-4740-b3a1-e8e693b6d4a4",
   "metadata": {
    "colab": {
     "base_uri": "https://localhost:8080/"
    },
    "id": "9600e6d6-8912-4740-b3a1-e8e693b6d4a4",
    "outputId": "6c4fe13b-5b71-42b8-9380-2f72856d2f29"
   },
   "outputs": [
    {
     "data": {
      "text/plain": [
       "Private             22696\n",
       "Self-emp-not-inc     2541\n",
       "Local-gov            2093\n",
       "?                    1836\n",
       "State-gov            1298\n",
       "Self-emp-inc         1116\n",
       "Federal-gov           960\n",
       "Without-pay            14\n",
       "Never-worked            7\n",
       "Name: workclass, dtype: int64"
      ]
     },
     "execution_count": 105,
     "metadata": {},
     "output_type": "execute_result"
    }
   ],
   "source": [
    "df['workclass'].value_counts()"
   ]
  },
  {
   "cell_type": "code",
   "execution_count": 106,
   "id": "bbf11de0-d18d-4815-89fe-d01f5a8afb86",
   "metadata": {
    "colab": {
     "base_uri": "https://localhost:8080/"
    },
    "id": "bbf11de0-d18d-4815-89fe-d01f5a8afb86",
    "outputId": "7ac0b6d0-a899-4c78-ee65-c15a67a85d72"
   },
   "outputs": [
    {
     "data": {
      "text/plain": [
       "age               0\n",
       "workclass         0\n",
       "fnlwgt            0\n",
       "education         0\n",
       "education.num     0\n",
       "marital.status    0\n",
       "occupation        0\n",
       "race              0\n",
       "sex               0\n",
       "capital.gain      0\n",
       "capital.loss      0\n",
       "hours.per.week    0\n",
       "native.country    0\n",
       "income            0\n",
       "dtype: int64"
      ]
     },
     "execution_count": 106,
     "metadata": {},
     "output_type": "execute_result"
    }
   ],
   "source": [
    "df.isnull().sum()"
   ]
  },
  {
   "cell_type": "markdown",
   "id": "de5f5d92-eec1-447d-9a0a-1fdaceb35fe0",
   "metadata": {
    "id": "de5f5d92-eec1-447d-9a0a-1fdaceb35fe0"
   },
   "source": [
    "# replace Special symbol with np.nan"
   ]
  },
  {
   "cell_type": "code",
   "execution_count": 107,
   "id": "cc897bf7-d6c2-4737-9820-626d597c892b",
   "metadata": {
    "id": "cc897bf7-d6c2-4737-9820-626d597c892b"
   },
   "outputs": [],
   "source": [
    "df=df.replace('?',np.nan)"
   ]
  },
  {
   "cell_type": "code",
   "execution_count": 108,
   "id": "e12eb49b-dab9-4f00-abe2-0b6585db989f",
   "metadata": {
    "colab": {
     "base_uri": "https://localhost:8080/"
    },
    "id": "e12eb49b-dab9-4f00-abe2-0b6585db989f",
    "outputId": "c204aa34-9640-4ff2-df7b-929467fda5e0"
   },
   "outputs": [
    {
     "data": {
      "text/plain": [
       "age                  0\n",
       "workclass         1836\n",
       "fnlwgt               0\n",
       "education            0\n",
       "education.num        0\n",
       "marital.status       0\n",
       "occupation        1843\n",
       "race                 0\n",
       "sex                  0\n",
       "capital.gain         0\n",
       "capital.loss         0\n",
       "hours.per.week       0\n",
       "native.country     583\n",
       "income               0\n",
       "dtype: int64"
      ]
     },
     "execution_count": 108,
     "metadata": {},
     "output_type": "execute_result"
    }
   ],
   "source": [
    "df.isnull().sum()"
   ]
  },
  {
   "cell_type": "code",
   "execution_count": 109,
   "id": "2662a9e7-85aa-4eb8-8edf-75664db39025",
   "metadata": {
    "colab": {
     "base_uri": "https://localhost:8080/"
    },
    "id": "2662a9e7-85aa-4eb8-8edf-75664db39025",
    "outputId": "97ae8740-3053-4090-ff42-0f636b50d398"
   },
   "outputs": [
    {
     "data": {
      "text/plain": [
       "Private             22696\n",
       "Self-emp-not-inc     2541\n",
       "Local-gov            2093\n",
       "State-gov            1298\n",
       "Self-emp-inc         1116\n",
       "Federal-gov           960\n",
       "Without-pay            14\n",
       "Never-worked            7\n",
       "Name: workclass, dtype: int64"
      ]
     },
     "execution_count": 109,
     "metadata": {},
     "output_type": "execute_result"
    }
   ],
   "source": [
    "df['workclass'].value_counts()"
   ]
  },
  {
   "cell_type": "code",
   "execution_count": 110,
   "id": "de6c75ef-5122-4646-9e3d-bb85fe32d7a7",
   "metadata": {
    "id": "de6c75ef-5122-4646-9e3d-bb85fe32d7a7"
   },
   "outputs": [],
   "source": [
    "df['workclass']=df['workclass'].fillna('Private')"
   ]
  },
  {
   "cell_type": "code",
   "execution_count": 111,
   "id": "2a6a8ad0-a173-4e91-b4ae-a8dff6a23547",
   "metadata": {
    "colab": {
     "base_uri": "https://localhost:8080/"
    },
    "id": "2a6a8ad0-a173-4e91-b4ae-a8dff6a23547",
    "outputId": "791a5baf-6b3c-4e30-e981-b1780d73fc35"
   },
   "outputs": [
    {
     "data": {
      "text/plain": [
       "Prof-specialty       4140\n",
       "Craft-repair         4099\n",
       "Exec-managerial      4066\n",
       "Adm-clerical         3770\n",
       "Sales                3650\n",
       "Other-service        3295\n",
       "Machine-op-inspct    2002\n",
       "Transport-moving     1597\n",
       "Handlers-cleaners    1370\n",
       "Farming-fishing       994\n",
       "Tech-support          928\n",
       "Protective-serv       649\n",
       "Priv-house-serv       149\n",
       "Armed-Forces            9\n",
       "Name: occupation, dtype: int64"
      ]
     },
     "execution_count": 111,
     "metadata": {},
     "output_type": "execute_result"
    }
   ],
   "source": [
    "df['occupation'].value_counts()"
   ]
  },
  {
   "cell_type": "code",
   "execution_count": 112,
   "id": "1c92b7f3-7870-4944-b80f-67f9a790f0f7",
   "metadata": {
    "id": "1c92b7f3-7870-4944-b80f-67f9a790f0f7"
   },
   "outputs": [],
   "source": [
    "df['occupation']=df['occupation'].fillna('Other-service')"
   ]
  },
  {
   "cell_type": "code",
   "execution_count": 113,
   "id": "1c830795-5780-40b6-85af-40bd506873b9",
   "metadata": {
    "colab": {
     "base_uri": "https://localhost:8080/"
    },
    "id": "1c830795-5780-40b6-85af-40bd506873b9",
    "outputId": "57b5128d-0408-49ca-b740-8827f9d2f32e"
   },
   "outputs": [
    {
     "data": {
      "text/plain": [
       "United-States                 29170\n",
       "Mexico                          643\n",
       "Philippines                     198\n",
       "Germany                         137\n",
       "Canada                          121\n",
       "Puerto-Rico                     114\n",
       "El-Salvador                     106\n",
       "India                           100\n",
       "Cuba                             95\n",
       "England                          90\n",
       "Jamaica                          81\n",
       "South                            80\n",
       "China                            75\n",
       "Italy                            73\n",
       "Dominican-Republic               70\n",
       "Vietnam                          67\n",
       "Guatemala                        64\n",
       "Japan                            62\n",
       "Poland                           60\n",
       "Columbia                         59\n",
       "Taiwan                           51\n",
       "Haiti                            44\n",
       "Iran                             43\n",
       "Portugal                         37\n",
       "Nicaragua                        34\n",
       "Peru                             31\n",
       "Greece                           29\n",
       "France                           29\n",
       "Ecuador                          28\n",
       "Ireland                          24\n",
       "Hong                             20\n",
       "Trinadad&Tobago                  19\n",
       "Cambodia                         19\n",
       "Thailand                         18\n",
       "Laos                             18\n",
       "Yugoslavia                       16\n",
       "Outlying-US(Guam-USVI-etc)       14\n",
       "Hungary                          13\n",
       "Honduras                         13\n",
       "Scotland                         12\n",
       "Holand-Netherlands                1\n",
       "Name: native.country, dtype: int64"
      ]
     },
     "execution_count": 113,
     "metadata": {},
     "output_type": "execute_result"
    }
   ],
   "source": [
    "df['native.country'].value_counts()"
   ]
  },
  {
   "cell_type": "code",
   "execution_count": 114,
   "id": "f4782a76-2305-45bd-a371-5acc6a1af867",
   "metadata": {
    "id": "f4782a76-2305-45bd-a371-5acc6a1af867"
   },
   "outputs": [],
   "source": [
    "df['native.country']=df['native.country'].fillna('United-States')"
   ]
  },
  {
   "cell_type": "code",
   "execution_count": 115,
   "id": "d52eb648-fb4c-41b9-9b3c-f827bfeff511",
   "metadata": {
    "colab": {
     "base_uri": "https://localhost:8080/"
    },
    "id": "d52eb648-fb4c-41b9-9b3c-f827bfeff511",
    "outputId": "4029c8ac-4fc3-4647-d7da-7e5b18160ad4"
   },
   "outputs": [
    {
     "data": {
      "text/plain": [
       "age               0\n",
       "workclass         0\n",
       "fnlwgt            0\n",
       "education         0\n",
       "education.num     0\n",
       "marital.status    0\n",
       "occupation        0\n",
       "race              0\n",
       "sex               0\n",
       "capital.gain      0\n",
       "capital.loss      0\n",
       "hours.per.week    0\n",
       "native.country    0\n",
       "income            0\n",
       "dtype: int64"
      ]
     },
     "execution_count": 115,
     "metadata": {},
     "output_type": "execute_result"
    }
   ],
   "source": [
    "df.isnull().sum()"
   ]
  },
  {
   "cell_type": "markdown",
   "id": "5f3d25d6-4628-4a79-abce-d4359f66dd15",
   "metadata": {
    "id": "5f3d25d6-4628-4a79-abce-d4359f66dd15"
   },
   "source": [
    "# Check how many class in income feature."
   ]
  },
  {
   "cell_type": "code",
   "execution_count": 116,
   "id": "8510ed9c-19b6-4b5a-998f-8ce7daf7d4f7",
   "metadata": {
    "colab": {
     "base_uri": "https://localhost:8080/"
    },
    "id": "8510ed9c-19b6-4b5a-998f-8ce7daf7d4f7",
    "outputId": "322b174e-9675-4cb0-adba-3b90d5d17806"
   },
   "outputs": [
    {
     "data": {
      "text/plain": [
       "array(['<=50K', '>50K'], dtype=object)"
      ]
     },
     "execution_count": 116,
     "metadata": {},
     "output_type": "execute_result"
    }
   ],
   "source": [
    "df['income'].unique()"
   ]
  },
  {
   "cell_type": "markdown",
   "id": "088df4ef-8b6a-4baf-9a22-50df7a75b39a",
   "metadata": {
    "id": "088df4ef-8b6a-4baf-9a22-50df7a75b39a"
   },
   "source": [
    "# Convert classes in income feature to 0 and 1"
   ]
  },
  {
   "cell_type": "code",
   "execution_count": 117,
   "id": "815cb010-aa60-49e9-b83b-45ec1440a07d",
   "metadata": {
    "id": "815cb010-aa60-49e9-b83b-45ec1440a07d"
   },
   "outputs": [],
   "source": [
    "df['income']=df['income'].replace({'<=50K':0,'>50K':1})"
   ]
  },
  {
   "cell_type": "code",
   "execution_count": 118,
   "id": "af8ed613-1164-4d0e-8341-3ff480886aa6",
   "metadata": {
    "colab": {
     "base_uri": "https://localhost:8080/",
     "height": 357
    },
    "id": "af8ed613-1164-4d0e-8341-3ff480886aa6",
    "outputId": "cd0fbc7f-45aa-48a2-eb19-2da3dabcd59d"
   },
   "outputs": [
    {
     "data": {
      "text/html": [
       "<div>\n",
       "<style scoped>\n",
       "    .dataframe tbody tr th:only-of-type {\n",
       "        vertical-align: middle;\n",
       "    }\n",
       "\n",
       "    .dataframe tbody tr th {\n",
       "        vertical-align: top;\n",
       "    }\n",
       "\n",
       "    .dataframe thead th {\n",
       "        text-align: right;\n",
       "    }\n",
       "</style>\n",
       "<table border=\"1\" class=\"dataframe\">\n",
       "  <thead>\n",
       "    <tr style=\"text-align: right;\">\n",
       "      <th></th>\n",
       "      <th>age</th>\n",
       "      <th>workclass</th>\n",
       "      <th>fnlwgt</th>\n",
       "      <th>education</th>\n",
       "      <th>education.num</th>\n",
       "      <th>marital.status</th>\n",
       "      <th>occupation</th>\n",
       "      <th>race</th>\n",
       "      <th>sex</th>\n",
       "      <th>capital.gain</th>\n",
       "      <th>capital.loss</th>\n",
       "      <th>hours.per.week</th>\n",
       "      <th>native.country</th>\n",
       "      <th>income</th>\n",
       "    </tr>\n",
       "  </thead>\n",
       "  <tbody>\n",
       "    <tr>\n",
       "      <th>0</th>\n",
       "      <td>90</td>\n",
       "      <td>Private</td>\n",
       "      <td>77053</td>\n",
       "      <td>HS-grad</td>\n",
       "      <td>9</td>\n",
       "      <td>Widowed</td>\n",
       "      <td>Other-service</td>\n",
       "      <td>White</td>\n",
       "      <td>Female</td>\n",
       "      <td>0</td>\n",
       "      <td>4356</td>\n",
       "      <td>40</td>\n",
       "      <td>United-States</td>\n",
       "      <td>0</td>\n",
       "    </tr>\n",
       "    <tr>\n",
       "      <th>1</th>\n",
       "      <td>82</td>\n",
       "      <td>Private</td>\n",
       "      <td>132870</td>\n",
       "      <td>HS-grad</td>\n",
       "      <td>9</td>\n",
       "      <td>Widowed</td>\n",
       "      <td>Exec-managerial</td>\n",
       "      <td>White</td>\n",
       "      <td>Female</td>\n",
       "      <td>0</td>\n",
       "      <td>4356</td>\n",
       "      <td>18</td>\n",
       "      <td>United-States</td>\n",
       "      <td>0</td>\n",
       "    </tr>\n",
       "    <tr>\n",
       "      <th>2</th>\n",
       "      <td>66</td>\n",
       "      <td>Private</td>\n",
       "      <td>186061</td>\n",
       "      <td>Some-college</td>\n",
       "      <td>10</td>\n",
       "      <td>Widowed</td>\n",
       "      <td>Other-service</td>\n",
       "      <td>Black</td>\n",
       "      <td>Female</td>\n",
       "      <td>0</td>\n",
       "      <td>4356</td>\n",
       "      <td>40</td>\n",
       "      <td>United-States</td>\n",
       "      <td>0</td>\n",
       "    </tr>\n",
       "    <tr>\n",
       "      <th>3</th>\n",
       "      <td>54</td>\n",
       "      <td>Private</td>\n",
       "      <td>140359</td>\n",
       "      <td>7th-8th</td>\n",
       "      <td>4</td>\n",
       "      <td>Divorced</td>\n",
       "      <td>Machine-op-inspct</td>\n",
       "      <td>White</td>\n",
       "      <td>Female</td>\n",
       "      <td>0</td>\n",
       "      <td>3900</td>\n",
       "      <td>40</td>\n",
       "      <td>United-States</td>\n",
       "      <td>0</td>\n",
       "    </tr>\n",
       "    <tr>\n",
       "      <th>4</th>\n",
       "      <td>41</td>\n",
       "      <td>Private</td>\n",
       "      <td>264663</td>\n",
       "      <td>Some-college</td>\n",
       "      <td>10</td>\n",
       "      <td>Separated</td>\n",
       "      <td>Prof-specialty</td>\n",
       "      <td>White</td>\n",
       "      <td>Female</td>\n",
       "      <td>0</td>\n",
       "      <td>3900</td>\n",
       "      <td>40</td>\n",
       "      <td>United-States</td>\n",
       "      <td>0</td>\n",
       "    </tr>\n",
       "  </tbody>\n",
       "</table>\n",
       "</div>"
      ],
      "text/plain": [
       "   age workclass  fnlwgt     education  education.num marital.status  \\\n",
       "0   90   Private   77053       HS-grad              9        Widowed   \n",
       "1   82   Private  132870       HS-grad              9        Widowed   \n",
       "2   66   Private  186061  Some-college             10        Widowed   \n",
       "3   54   Private  140359       7th-8th              4       Divorced   \n",
       "4   41   Private  264663  Some-college             10      Separated   \n",
       "\n",
       "          occupation   race     sex  capital.gain  capital.loss  \\\n",
       "0      Other-service  White  Female             0          4356   \n",
       "1    Exec-managerial  White  Female             0          4356   \n",
       "2      Other-service  Black  Female             0          4356   \n",
       "3  Machine-op-inspct  White  Female             0          3900   \n",
       "4     Prof-specialty  White  Female             0          3900   \n",
       "\n",
       "   hours.per.week native.country  income  \n",
       "0              40  United-States       0  \n",
       "1              18  United-States       0  \n",
       "2              40  United-States       0  \n",
       "3              40  United-States       0  \n",
       "4              40  United-States       0  "
      ]
     },
     "execution_count": 118,
     "metadata": {},
     "output_type": "execute_result"
    }
   ],
   "source": [
    "df.head()"
   ]
  },
  {
   "cell_type": "code",
   "execution_count": 119,
   "id": "c25b0514-ce65-479c-a848-435b05f3c64f",
   "metadata": {
    "colab": {
     "base_uri": "https://localhost:8080/"
    },
    "id": "c25b0514-ce65-479c-a848-435b05f3c64f",
    "outputId": "4b0e8e0d-833c-4c85-f086-d272dcbcad33"
   },
   "outputs": [
    {
     "data": {
      "text/plain": [
       "0    24720\n",
       "1     7841\n",
       "Name: income, dtype: int64"
      ]
     },
     "execution_count": 119,
     "metadata": {},
     "output_type": "execute_result"
    }
   ],
   "source": [
    "df['income'].value_counts()"
   ]
  },
  {
   "cell_type": "code",
   "execution_count": 120,
   "id": "ee83fc5b-df49-42ea-937e-09183fbdd059",
   "metadata": {
    "id": "ee83fc5b-df49-42ea-937e-09183fbdd059"
   },
   "outputs": [],
   "source": [
    "educational_df=pd.DataFrame({'education':df['education'].unique(),'education_no':df['education.num'].unique()})"
   ]
  },
  {
   "cell_type": "code",
   "execution_count": 121,
   "id": "164ca8f9-1871-4aae-908c-8a5bc9d05595",
   "metadata": {
    "colab": {
     "base_uri": "https://localhost:8080/",
     "height": 551
    },
    "id": "164ca8f9-1871-4aae-908c-8a5bc9d05595",
    "outputId": "f7cc34c6-36b6-42d2-8d36-a09ad90390c7"
   },
   "outputs": [
    {
     "data": {
      "text/html": [
       "<div>\n",
       "<style scoped>\n",
       "    .dataframe tbody tr th:only-of-type {\n",
       "        vertical-align: middle;\n",
       "    }\n",
       "\n",
       "    .dataframe tbody tr th {\n",
       "        vertical-align: top;\n",
       "    }\n",
       "\n",
       "    .dataframe thead th {\n",
       "        text-align: right;\n",
       "    }\n",
       "</style>\n",
       "<table border=\"1\" class=\"dataframe\">\n",
       "  <thead>\n",
       "    <tr style=\"text-align: right;\">\n",
       "      <th></th>\n",
       "      <th>education</th>\n",
       "      <th>education_no</th>\n",
       "    </tr>\n",
       "  </thead>\n",
       "  <tbody>\n",
       "    <tr>\n",
       "      <th>15</th>\n",
       "      <td>Preschool</td>\n",
       "      <td>1</td>\n",
       "    </tr>\n",
       "    <tr>\n",
       "      <th>11</th>\n",
       "      <td>1st-4th</td>\n",
       "      <td>2</td>\n",
       "    </tr>\n",
       "    <tr>\n",
       "      <th>12</th>\n",
       "      <td>5th-6th</td>\n",
       "      <td>3</td>\n",
       "    </tr>\n",
       "    <tr>\n",
       "      <th>2</th>\n",
       "      <td>7th-8th</td>\n",
       "      <td>4</td>\n",
       "    </tr>\n",
       "    <tr>\n",
       "      <th>14</th>\n",
       "      <td>9th</td>\n",
       "      <td>5</td>\n",
       "    </tr>\n",
       "    <tr>\n",
       "      <th>3</th>\n",
       "      <td>10th</td>\n",
       "      <td>6</td>\n",
       "    </tr>\n",
       "    <tr>\n",
       "      <th>8</th>\n",
       "      <td>11th</td>\n",
       "      <td>7</td>\n",
       "    </tr>\n",
       "    <tr>\n",
       "      <th>13</th>\n",
       "      <td>12th</td>\n",
       "      <td>8</td>\n",
       "    </tr>\n",
       "    <tr>\n",
       "      <th>0</th>\n",
       "      <td>HS-grad</td>\n",
       "      <td>9</td>\n",
       "    </tr>\n",
       "    <tr>\n",
       "      <th>1</th>\n",
       "      <td>Some-college</td>\n",
       "      <td>10</td>\n",
       "    </tr>\n",
       "    <tr>\n",
       "      <th>10</th>\n",
       "      <td>Assoc-voc</td>\n",
       "      <td>11</td>\n",
       "    </tr>\n",
       "    <tr>\n",
       "      <th>9</th>\n",
       "      <td>Assoc-acdm</td>\n",
       "      <td>12</td>\n",
       "    </tr>\n",
       "    <tr>\n",
       "      <th>6</th>\n",
       "      <td>Bachelors</td>\n",
       "      <td>13</td>\n",
       "    </tr>\n",
       "    <tr>\n",
       "      <th>7</th>\n",
       "      <td>Masters</td>\n",
       "      <td>14</td>\n",
       "    </tr>\n",
       "    <tr>\n",
       "      <th>5</th>\n",
       "      <td>Prof-school</td>\n",
       "      <td>15</td>\n",
       "    </tr>\n",
       "    <tr>\n",
       "      <th>4</th>\n",
       "      <td>Doctorate</td>\n",
       "      <td>16</td>\n",
       "    </tr>\n",
       "  </tbody>\n",
       "</table>\n",
       "</div>"
      ],
      "text/plain": [
       "       education  education_no\n",
       "15     Preschool             1\n",
       "11       1st-4th             2\n",
       "12       5th-6th             3\n",
       "2        7th-8th             4\n",
       "14           9th             5\n",
       "3           10th             6\n",
       "8           11th             7\n",
       "13          12th             8\n",
       "0        HS-grad             9\n",
       "1   Some-college            10\n",
       "10     Assoc-voc            11\n",
       "9     Assoc-acdm            12\n",
       "6      Bachelors            13\n",
       "7        Masters            14\n",
       "5    Prof-school            15\n",
       "4      Doctorate            16"
      ]
     },
     "execution_count": 121,
     "metadata": {},
     "output_type": "execute_result"
    }
   ],
   "source": [
    "educational_df.sort_values('education_no',ascending=True)"
   ]
  },
  {
   "cell_type": "code",
   "execution_count": 122,
   "id": "25dd43dc-9099-477b-bb06-23922077e3fe",
   "metadata": {
    "id": "25dd43dc-9099-477b-bb06-23922077e3fe"
   },
   "outputs": [],
   "source": [
    "df1=df.drop(['education'],axis=1)"
   ]
  },
  {
   "cell_type": "code",
   "execution_count": 123,
   "id": "202b6be7-6253-4c28-a808-637e64fa3e71",
   "metadata": {
    "colab": {
     "base_uri": "https://localhost:8080/",
     "height": 269
    },
    "id": "202b6be7-6253-4c28-a808-637e64fa3e71",
    "outputId": "0587604e-4430-42f7-b24b-27c582f15fa2"
   },
   "outputs": [
    {
     "data": {
      "text/html": [
       "<div>\n",
       "<style scoped>\n",
       "    .dataframe tbody tr th:only-of-type {\n",
       "        vertical-align: middle;\n",
       "    }\n",
       "\n",
       "    .dataframe tbody tr th {\n",
       "        vertical-align: top;\n",
       "    }\n",
       "\n",
       "    .dataframe thead th {\n",
       "        text-align: right;\n",
       "    }\n",
       "</style>\n",
       "<table border=\"1\" class=\"dataframe\">\n",
       "  <thead>\n",
       "    <tr style=\"text-align: right;\">\n",
       "      <th></th>\n",
       "      <th>age</th>\n",
       "      <th>fnlwgt</th>\n",
       "      <th>education.num</th>\n",
       "      <th>capital.gain</th>\n",
       "      <th>capital.loss</th>\n",
       "      <th>hours.per.week</th>\n",
       "      <th>income</th>\n",
       "    </tr>\n",
       "  </thead>\n",
       "  <tbody>\n",
       "    <tr>\n",
       "      <th>age</th>\n",
       "      <td>1.000000</td>\n",
       "      <td>-0.076646</td>\n",
       "      <td>0.036527</td>\n",
       "      <td>0.077674</td>\n",
       "      <td>0.057775</td>\n",
       "      <td>0.068756</td>\n",
       "      <td>0.234037</td>\n",
       "    </tr>\n",
       "    <tr>\n",
       "      <th>fnlwgt</th>\n",
       "      <td>-0.076646</td>\n",
       "      <td>1.000000</td>\n",
       "      <td>-0.043195</td>\n",
       "      <td>0.000432</td>\n",
       "      <td>-0.010252</td>\n",
       "      <td>-0.018768</td>\n",
       "      <td>-0.009463</td>\n",
       "    </tr>\n",
       "    <tr>\n",
       "      <th>education.num</th>\n",
       "      <td>0.036527</td>\n",
       "      <td>-0.043195</td>\n",
       "      <td>1.000000</td>\n",
       "      <td>0.122630</td>\n",
       "      <td>0.079923</td>\n",
       "      <td>0.148123</td>\n",
       "      <td>0.335154</td>\n",
       "    </tr>\n",
       "    <tr>\n",
       "      <th>capital.gain</th>\n",
       "      <td>0.077674</td>\n",
       "      <td>0.000432</td>\n",
       "      <td>0.122630</td>\n",
       "      <td>1.000000</td>\n",
       "      <td>-0.031615</td>\n",
       "      <td>0.078409</td>\n",
       "      <td>0.223329</td>\n",
       "    </tr>\n",
       "    <tr>\n",
       "      <th>capital.loss</th>\n",
       "      <td>0.057775</td>\n",
       "      <td>-0.010252</td>\n",
       "      <td>0.079923</td>\n",
       "      <td>-0.031615</td>\n",
       "      <td>1.000000</td>\n",
       "      <td>0.054256</td>\n",
       "      <td>0.150526</td>\n",
       "    </tr>\n",
       "    <tr>\n",
       "      <th>hours.per.week</th>\n",
       "      <td>0.068756</td>\n",
       "      <td>-0.018768</td>\n",
       "      <td>0.148123</td>\n",
       "      <td>0.078409</td>\n",
       "      <td>0.054256</td>\n",
       "      <td>1.000000</td>\n",
       "      <td>0.229689</td>\n",
       "    </tr>\n",
       "    <tr>\n",
       "      <th>income</th>\n",
       "      <td>0.234037</td>\n",
       "      <td>-0.009463</td>\n",
       "      <td>0.335154</td>\n",
       "      <td>0.223329</td>\n",
       "      <td>0.150526</td>\n",
       "      <td>0.229689</td>\n",
       "      <td>1.000000</td>\n",
       "    </tr>\n",
       "  </tbody>\n",
       "</table>\n",
       "</div>"
      ],
      "text/plain": [
       "                     age    fnlwgt  education.num  capital.gain  capital.loss  \\\n",
       "age             1.000000 -0.076646       0.036527      0.077674      0.057775   \n",
       "fnlwgt         -0.076646  1.000000      -0.043195      0.000432     -0.010252   \n",
       "education.num   0.036527 -0.043195       1.000000      0.122630      0.079923   \n",
       "capital.gain    0.077674  0.000432       0.122630      1.000000     -0.031615   \n",
       "capital.loss    0.057775 -0.010252       0.079923     -0.031615      1.000000   \n",
       "hours.per.week  0.068756 -0.018768       0.148123      0.078409      0.054256   \n",
       "income          0.234037 -0.009463       0.335154      0.223329      0.150526   \n",
       "\n",
       "                hours.per.week    income  \n",
       "age                   0.068756  0.234037  \n",
       "fnlwgt               -0.018768 -0.009463  \n",
       "education.num         0.148123  0.335154  \n",
       "capital.gain          0.078409  0.223329  \n",
       "capital.loss          0.054256  0.150526  \n",
       "hours.per.week        1.000000  0.229689  \n",
       "income                0.229689  1.000000  "
      ]
     },
     "execution_count": 123,
     "metadata": {},
     "output_type": "execute_result"
    }
   ],
   "source": [
    "df.corr()"
   ]
  },
  {
   "cell_type": "code",
   "execution_count": 124,
   "id": "5a163ea0-d39e-4bc0-9db6-19c5def3ec36",
   "metadata": {
    "colab": {
     "base_uri": "https://localhost:8080/",
     "height": 336
    },
    "id": "5a163ea0-d39e-4bc0-9db6-19c5def3ec36",
    "outputId": "474f9121-b075-455c-b688-fa37b2f7136f"
   },
   "outputs": [
    {
     "data": {
      "image/png": "[encoded data removed]",
      "text/plain": [
       "<Figure size 640x480 with 2 Axes>"
      ]
     },
     "metadata": {},
     "output_type": "display_data"
    }
   ],
   "source": [
    "import seaborn as sns\n",
    "sns.heatmap(df.corr(),annot = True);"
   ]
  },
  {
   "cell_type": "code",
   "execution_count": 125,
   "id": "72158ba7-eb6a-477b-9813-4f4bd44df7b9",
   "metadata": {
    "id": "72158ba7-eb6a-477b-9813-4f4bd44df7b9"
   },
   "outputs": [],
   "source": [
    "# hence from corrleation we can drop fnlwgt"
   ]
  },
  {
   "cell_type": "code",
   "execution_count": 126,
   "id": "5be208c8-d7fa-4f82-8472-184090795080",
   "metadata": {
    "id": "5be208c8-d7fa-4f82-8472-184090795080"
   },
   "outputs": [],
   "source": [
    "df.drop(['fnlwgt'],axis=1,inplace=True)"
   ]
  },
  {
   "cell_type": "code",
   "execution_count": 127,
   "id": "0f0aec18-972b-4f62-8cf5-2eac18c9748a",
   "metadata": {
    "colab": {
     "base_uri": "https://localhost:8080/"
    },
    "id": "0f0aec18-972b-4f62-8cf5-2eac18c9748a",
    "outputId": "43ca1fa6-fea3-4dc8-ba6b-da04815ef193"
   },
   "outputs": [
    {
     "data": {
      "text/plain": [
       "9     10501\n",
       "10     7291\n",
       "13     5355\n",
       "14     1723\n",
       "11     1382\n",
       "7      1175\n",
       "12     1067\n",
       "6       933\n",
       "4       646\n",
       "15      576\n",
       "5       514\n",
       "8       433\n",
       "16      413\n",
       "3       333\n",
       "2       168\n",
       "1        51\n",
       "Name: education.num, dtype: int64"
      ]
     },
     "execution_count": 127,
     "metadata": {},
     "output_type": "execute_result"
    }
   ],
   "source": [
    "df1['education.num'].value_counts()"
   ]
  },
  {
   "cell_type": "code",
   "execution_count": 128,
   "id": "09428070-22a5-499c-9937-3d4a0015eda6",
   "metadata": {
    "id": "09428070-22a5-499c-9937-3d4a0015eda6"
   },
   "outputs": [],
   "source": [
    "df1=df.drop(['income'],axis=1)"
   ]
  },
  {
   "cell_type": "code",
   "execution_count": 129,
   "id": "715cd396-cdb9-4b92-aa86-fa493bc9a236",
   "metadata": {
    "id": "715cd396-cdb9-4b92-aa86-fa493bc9a236"
   },
   "outputs": [],
   "source": [
    "# ho= there is no relation between given feature with dependent variable\n",
    "# ha= there is relation between given feature with dependent variable"
   ]
  },
  {
   "cell_type": "code",
   "execution_count": 130,
   "id": "97303c6a-a10a-4147-9f99-ff609c54cd98",
   "metadata": {
    "id": "97303c6a-a10a-4147-9f99-ff609c54cd98"
   },
   "outputs": [],
   "source": [
    "# df.drop(['capital.gain','capital.loss'],axis=1,inplace='True')"
   ]
  },
  {
   "cell_type": "code",
   "execution_count": 131,
   "id": "d65b15ee-6127-41ad-91c4-700519333b69",
   "metadata": {
    "id": "d65b15ee-6127-41ad-91c4-700519333b69"
   },
   "outputs": [],
   "source": [
    "import matplotlib.pyplot as plt"
   ]
  },
  {
   "cell_type": "code",
   "execution_count": 132,
   "id": "97f3a963-987e-4b71-8e34-bb6357661339",
   "metadata": {
    "id": "97f3a963-987e-4b71-8e34-bb6357661339"
   },
   "outputs": [],
   "source": [
    "import seaborn as sns"
   ]
  },
  {
   "cell_type": "code",
   "execution_count": 133,
   "id": "67d24c6f-ca42-4930-9a12-37da84818414",
   "metadata": {
    "colab": {
     "base_uri": "https://localhost:8080/",
     "height": 470
    },
    "id": "67d24c6f-ca42-4930-9a12-37da84818414",
    "outputId": "1ac85829-bdd1-47cd-fb2f-818b31ab84f5"
   },
   "outputs": [
    {
     "data": {
      "image/png": "[encoded data removed]",
      "text/plain": [
       "<Figure size 1200x1200 with 9 Axes>"
      ]
     },
     "metadata": {},
     "output_type": "display_data"
    }
   ],
   "source": [
    "df.plot(kind='box',figsize=(12,12), layout=(3,3),subplots=True);"
   ]
  },
  {
   "cell_type": "code",
   "execution_count": 134,
   "id": "5acad983-37ab-4eda-9a38-a7fa62879667",
   "metadata": {
    "colab": {
     "base_uri": "https://localhost:8080/",
     "height": 481
    },
    "id": "5acad983-37ab-4eda-9a38-a7fa62879667",
    "outputId": "980d9d4d-9767-46aa-82f4-d78157ddfafa"
   },
   "outputs": [
    {
     "data": {
      "image/png": "[encoded data removed]",
      "text/plain": [
       "<Figure size 1200x1200 with 9 Axes>"
      ]
     },
     "metadata": {},
     "output_type": "display_data"
    }
   ],
   "source": [
    "df.hist(figsize=(12,12),layout=(3,3),sharex=False);"
   ]
  },
  {
   "cell_type": "code",
   "execution_count": 135,
   "id": "ecd072f9-01cf-45c4-814c-d7064576514f",
   "metadata": {
    "colab": {
     "base_uri": "https://localhost:8080/"
    },
    "id": "ecd072f9-01cf-45c4-814c-d7064576514f",
    "outputId": "10bb6e6b-f8aa-4918-85ca-b616785ae455"
   },
   "outputs": [
    {
     "data": {
      "text/plain": [
       "0        29849\n",
       "15024      347\n",
       "7688       284\n",
       "7298       246\n",
       "99999      159\n",
       "         ...  \n",
       "1111         1\n",
       "4931         1\n",
       "7978         1\n",
       "5060         1\n",
       "2538         1\n",
       "Name: capital.gain, Length: 119, dtype: int64"
      ]
     },
     "execution_count": 135,
     "metadata": {},
     "output_type": "execute_result"
    }
   ],
   "source": [
    "df1['capital.gain'].value_counts()"
   ]
  },
  {
   "cell_type": "code",
   "execution_count": 136,
   "id": "2726fc28-551b-4368-bf9b-430b560de3d2",
   "metadata": {
    "id": "2726fc28-551b-4368-bf9b-430b560de3d2"
   },
   "outputs": [],
   "source": [
    "df1=df.drop(['income'],axis=1)"
   ]
  },
  {
   "cell_type": "code",
   "execution_count": 137,
   "id": "ea0c4a59-fc16-4492-9f0b-a8671b09b1bf",
   "metadata": {
    "id": "ea0c4a59-fc16-4492-9f0b-a8671b09b1bf"
   },
   "outputs": [],
   "source": [
    "cols_list=['age','capital.gain','capital.loss','hours.per.week']"
   ]
  },
  {
   "cell_type": "code",
   "execution_count": 138,
   "id": "e9b95750-96e7-4330-803e-f7b7c3733ffb",
   "metadata": {
    "id": "e9b95750-96e7-4330-803e-f7b7c3733ffb"
   },
   "outputs": [],
   "source": [
    "for cols in df1.columns:\n",
    "    if df1[cols].dtype!='object' and cols in cols_list:\n",
    "        q1=df1[cols].quantile(0.25)\n",
    "        q3=df1[cols].quantile(0.75)\n",
    "        q2=q3-q1\n",
    "        low=q1-(1.5*q2)\n",
    "        high=q3+(1.5*q2)\n",
    "        (df1.loc[(df1[cols]<low) | (df1[cols]>high),cols])=df1[cols].median()"
   ]
  },
  {
   "cell_type": "code",
   "execution_count": 139,
   "id": "e1e5eb8a-2f04-4571-8865-cbb348682901",
   "metadata": {
    "colab": {
     "base_uri": "https://localhost:8080/",
     "height": 360
    },
    "id": "e1e5eb8a-2f04-4571-8865-cbb348682901",
    "outputId": "fb26a9ac-1a88-4ecb-c38a-8935aa1cfacb"
   },
   "outputs": [
    {
     "data": {
      "image/png": "[encoded data removed]",
      "text/plain": [
       "<Figure size 1200x1200 with 16 Axes>"
      ]
     },
     "metadata": {},
     "output_type": "display_data"
    }
   ],
   "source": [
    "df1.plot(kind='box',figsize=(12,12), layout=(4,4),subplots=True);"
   ]
  },
  {
   "cell_type": "code",
   "execution_count": 140,
   "id": "147cfb94-9587-4e73-a9d1-ce2af4c62fb4",
   "metadata": {
    "id": "147cfb94-9587-4e73-a9d1-ce2af4c62fb4"
   },
   "outputs": [],
   "source": [
    "# ho= there is no relation between given feature with dependent variable\n",
    "# ha= there is relation between given feature with dependent variable"
   ]
  },
  {
   "cell_type": "code",
   "execution_count": 141,
   "id": "5aed302c-51b9-45b5-81fb-26ad5e9da2ca",
   "metadata": {
    "colab": {
     "base_uri": "https://localhost:8080/"
    },
    "id": "5aed302c-51b9-45b5-81fb-26ad5e9da2ca",
    "outputId": "9f8ee9fa-dbf4-4fb8-fb6d-43c46f0f7c24"
   },
   "outputs": [
    {
     "name": "stdout",
     "output_type": "stream",
     "text": [
      "capital.gain has p_value of 1.0\n",
      "capital.loss has p_value of 1.0\n"
     ]
    }
   ],
   "source": [
    "for cols in df1.columns:\n",
    "    from scipy.stats import chi2_contingency\n",
    "    chi_df=pd.crosstab(df1[cols],df['income'])\n",
    "    a,p_value,b,c=chi2_contingency(chi_df)\n",
    "    if p_value > 0.05:\n",
    "        print(f'{cols} has p_value of {p_value}')"
   ]
  },
  {
   "cell_type": "code",
   "execution_count": 142,
   "id": "0db9dc8b-b1d8-4264-8619-1e77443c86eb",
   "metadata": {
    "id": "0db9dc8b-b1d8-4264-8619-1e77443c86eb"
   },
   "outputs": [],
   "source": [
    "df1.drop(['capital.gain','capital.loss'],axis=1,inplace=True)"
   ]
  },
  {
   "cell_type": "code",
   "execution_count": 143,
   "id": "cc06ee9d-5f2e-47e2-b006-32ac3718ee68",
   "metadata": {
    "id": "cc06ee9d-5f2e-47e2-b006-32ac3718ee68"
   },
   "outputs": [],
   "source": [
    "from sklearn.preprocessing import LabelEncoder"
   ]
  },
  {
   "cell_type": "code",
   "execution_count": 144,
   "id": "992d7a79-2273-4087-8245-58e566eef48b",
   "metadata": {
    "id": "992d7a79-2273-4087-8245-58e566eef48b"
   },
   "outputs": [],
   "source": [
    "le=LabelEncoder()"
   ]
  },
  {
   "cell_type": "code",
   "execution_count": 145,
   "id": "8a2044ec-530d-415c-8d85-e87da2fe9471",
   "metadata": {
    "id": "8a2044ec-530d-415c-8d85-e87da2fe9471"
   },
   "outputs": [],
   "source": [
    "for cols in df1.columns:\n",
    "    if df1[cols].dtype=='object':\n",
    "        df1[cols]=le.fit_transform(df1[cols])"
   ]
  },
  {
   "cell_type": "markdown",
   "id": "88cf0845-4a85-48dd-9852-376406a0e4e5",
   "metadata": {
    "id": "88cf0845-4a85-48dd-9852-376406a0e4e5"
   },
   "source": [
    "# Data Standardization"
   ]
  },
  {
   "cell_type": "code",
   "execution_count": 146,
   "id": "0e89dbda-4903-4781-a52e-20d867bb9f1b",
   "metadata": {
    "id": "0e89dbda-4903-4781-a52e-20d867bb9f1b"
   },
   "outputs": [],
   "source": [
    "from sklearn.preprocessing import StandardScaler"
   ]
  },
  {
   "cell_type": "code",
   "execution_count": 147,
   "id": "9c204b09-085b-4892-b500-500222b6f5a8",
   "metadata": {
    "id": "9c204b09-085b-4892-b500-500222b6f5a8"
   },
   "outputs": [],
   "source": [
    "std=StandardScaler()"
   ]
  },
  {
   "cell_type": "code",
   "execution_count": 148,
   "id": "c5d5855e-9210-4fe6-82c4-8fe3526eb880",
   "metadata": {
    "id": "c5d5855e-9210-4fe6-82c4-8fe3526eb880"
   },
   "outputs": [],
   "source": [
    "std_df=std.fit_transform(df1)"
   ]
  },
  {
   "cell_type": "code",
   "execution_count": 149,
   "id": "ce453c12-b1c5-4bf8-982d-565869d51f04",
   "metadata": {
    "id": "ce453c12-b1c5-4bf8-982d-565869d51f04"
   },
   "outputs": [],
   "source": [
    "std_df=pd.DataFrame(std_df)"
   ]
  },
  {
   "cell_type": "code",
   "execution_count": 150,
   "id": "56440ee2-d2b8-473e-b063-66a823eedce4",
   "metadata": {
    "id": "56440ee2-d2b8-473e-b063-66a823eedce4"
   },
   "outputs": [],
   "source": [
    "std_df.columns=df1.iloc[:,:].columns"
   ]
  },
  {
   "cell_type": "code",
   "execution_count": 151,
   "id": "0abba05f-7698-492b-b6be-ec1ed47f50cd",
   "metadata": {
    "id": "0abba05f-7698-492b-b6be-ec1ed47f50cd"
   },
   "outputs": [],
   "source": [
    "a=list(df['education'].unique())"
   ]
  },
  {
   "cell_type": "code",
   "execution_count": 152,
   "id": "8216798d-6c18-45fb-87c8-a0fdd6477453",
   "metadata": {
    "id": "8216798d-6c18-45fb-87c8-a0fdd6477453"
   },
   "outputs": [],
   "source": [
    "b=df['education'].value_counts()"
   ]
  },
  {
   "cell_type": "code",
   "execution_count": 153,
   "id": "97ff63c6-708a-4484-ae1f-2dff42d024f8",
   "metadata": {
    "id": "97ff63c6-708a-4484-ae1f-2dff42d024f8"
   },
   "outputs": [],
   "source": [
    "c=[]\n",
    "for i in b:\n",
    "    c.append(i)"
   ]
  },
  {
   "cell_type": "code",
   "execution_count": 154,
   "id": "e73d56da-5042-4dab-99ea-445edb3f5c6a",
   "metadata": {
    "colab": {
     "base_uri": "https://localhost:8080/",
     "height": 279
    },
    "id": "e73d56da-5042-4dab-99ea-445edb3f5c6a",
    "outputId": "743e432d-0697-4852-a262-95817bda7296"
   },
   "outputs": [
    {
     "data": {
      "image/png": "[encoded data removed]",
      "text/plain": [
       "<Figure size 640x480 with 1 Axes>"
      ]
     },
     "metadata": {},
     "output_type": "display_data"
    }
   ],
   "source": [
    "sns.countplot(df['race'], hue='income', data=df,);"
   ]
  },
  {
   "cell_type": "code",
   "execution_count": 155,
   "id": "27a2bf91-e13e-451f-8aa4-20b4b382feae",
   "metadata": {
    "colab": {
     "base_uri": "https://localhost:8080/",
     "height": 279
    },
    "id": "27a2bf91-e13e-451f-8aa4-20b4b382feae",
    "outputId": "48333673-2fc1-460e-a32b-2794f43e6145"
   },
   "outputs": [
    {
     "data": {
      "image/png": "[encoded data removed]",
      "text/plain": [
       "<Figure size 640x480 with 1 Axes>"
      ]
     },
     "metadata": {},
     "output_type": "display_data"
    }
   ],
   "source": [
    "a=sns.countplot(df1['hours.per.week'], hue='income', data=df);\n"
   ]
  },
  {
   "cell_type": "code",
   "execution_count": 156,
   "id": "3c342af4-190f-4eb4-864c-6fa7f930744e",
   "metadata": {
    "colab": {
     "base_uri": "https://localhost:8080/",
     "height": 334
    },
    "id": "3c342af4-190f-4eb4-864c-6fa7f930744e",
    "outputId": "6ac79e79-b1a6-4d56-c975-16cd29f05039"
   },
   "outputs": [
    {
     "data": {
      "text/plain": [
       "(array([   67.,  1517.,   625., 24263.,   255.,   363.,  1906.,   566.,\n",
       "         2848.,   151.]),\n",
       " array([33. , 34.9, 36.8, 38.7, 40.6, 42.5, 44.4, 46.3, 48.2, 50.1, 52. ]),\n",
       " <BarContainer object of 10 artists>)"
      ]
     },
     "execution_count": 156,
     "metadata": {},
     "output_type": "execute_result"
    },
    {
     "data": {
      "image/png": "[encoded data removed]",
      "text/plain": [
       "<Figure size 640x480 with 1 Axes>"
      ]
     },
     "metadata": {},
     "output_type": "display_data"
    }
   ],
   "source": [
    "plt.hist(df1['hours.per.week'])"
   ]
  },
  {
   "cell_type": "code",
   "execution_count": null,
   "id": "1a5be126-9ef4-4c74-9073-c8df06e78420",
   "metadata": {
    "id": "1a5be126-9ef4-4c74-9073-c8df06e78420"
   },
   "outputs": [],
   "source": []
  },
  {
   "cell_type": "code",
   "execution_count": 157,
   "id": "b33139c9-871b-4f92-9ef8-8a9ae32dd449",
   "metadata": {
    "colab": {
     "base_uri": "https://localhost:8080/",
     "height": 279
    },
    "id": "b33139c9-871b-4f92-9ef8-8a9ae32dd449",
    "outputId": "47369302-69cd-400a-ffed-59c2f9256072"
   },
   "outputs": [
    {
     "data": {
      "image/png": "[encoded data removed]",
      "text/plain": [
       "<Figure size 640x480 with 1 Axes>"
      ]
     },
     "metadata": {},
     "output_type": "display_data"
    }
   ],
   "source": [
    "sns.countplot(df1['education.num'], hue='income', data=df);"
   ]
  },
  {
   "cell_type": "code",
   "execution_count": 158,
   "id": "01a5ec5f-d1f2-4271-a939-a20716eb90f8",
   "metadata": {
    "colab": {
     "base_uri": "https://localhost:8080/",
     "height": 279
    },
    "id": "01a5ec5f-d1f2-4271-a939-a20716eb90f8",
    "outputId": "1f0bd5ab-20d0-4ac3-def6-866e84168866"
   },
   "outputs": [
    {
     "data": {
      "image/png": "[encoded data removed]",
      "text/plain": [
       "<Figure size 640x480 with 1 Axes>"
      ]
     },
     "metadata": {},
     "output_type": "display_data"
    }
   ],
   "source": [
    "import seaborn as sns\n",
    "ax = sns.countplot(x=\"sex\", hue='income', data=df)"
   ]
  },
  {
   "cell_type": "code",
   "execution_count": 159,
   "id": "ebe06e43-ae20-485b-ab22-f9af53667118",
   "metadata": {
    "id": "ebe06e43-ae20-485b-ab22-f9af53667118"
   },
   "outputs": [],
   "source": [
    "final_df=pd.concat([std_df,df['income']],axis=1)"
   ]
  },
  {
   "cell_type": "markdown",
   "id": "b23e481a-f1e5-4b39-be04-510d54b7baca",
   "metadata": {
    "id": "b23e481a-f1e5-4b39-be04-510d54b7baca"
   },
   "source": [
    "# split data into train and test"
   ]
  },
  {
   "cell_type": "code",
   "execution_count": 160,
   "id": "fd91a6c8-68e6-4ea5-a941-84f459dd0db2",
   "metadata": {
    "id": "fd91a6c8-68e6-4ea5-a941-84f459dd0db2"
   },
   "outputs": [],
   "source": [
    "from sklearn.model_selection import train_test_split"
   ]
  },
  {
   "cell_type": "code",
   "execution_count": 161,
   "id": "cdded646-6a33-4431-9382-0b78f56abbc5",
   "metadata": {
    "id": "cdded646-6a33-4431-9382-0b78f56abbc5"
   },
   "outputs": [],
   "source": [
    "X_stratified = final_df.iloc[:,:-1]\n",
    "y_stratified = final_df.iloc[:,[-1]]"
   ]
  },
  {
   "cell_type": "code",
   "execution_count": 162,
   "id": "46271522-417a-4d6d-9b31-4a816a38e897",
   "metadata": {
    "id": "46271522-417a-4d6d-9b31-4a816a38e897"
   },
   "outputs": [],
   "source": [
    "X_train,X_test,y_train,y_test=train_test_split(X_stratified,y_stratified,train_size=0.8,stratify=y_stratified,random_state=0)"
   ]
  },
  {
   "cell_type": "code",
   "execution_count": 163,
   "id": "1fcb6e12-42fd-484e-82e9-44b430b737af",
   "metadata": {
    "id": "1fcb6e12-42fd-484e-82e9-44b430b737af"
   },
   "outputs": [],
   "source": [
    "#train_df,test_df=train_test_split(final_df,train_size=0.8)"
   ]
  },
  {
   "cell_type": "code",
   "execution_count": 164,
   "id": "eb94b534-b643-40dd-b4fc-b94d41da0edc",
   "metadata": {
    "id": "eb94b534-b643-40dd-b4fc-b94d41da0edc"
   },
   "outputs": [],
   "source": [
    "#a=train_df[train_df['income']==1]"
   ]
  },
  {
   "cell_type": "code",
   "execution_count": 165,
   "id": "910279ba-4c88-49dc-afc2-ac538b2683e2",
   "metadata": {
    "colab": {
     "base_uri": "https://localhost:8080/"
    },
    "id": "910279ba-4c88-49dc-afc2-ac538b2683e2",
    "outputId": "972cce5a-c92d-4e24-c1da-d0ee2fc122ce"
   },
   "outputs": [
    {
     "data": {
      "text/plain": [
       "<AxesSubplot:xlabel='hours.per.week', ylabel='count'>"
      ]
     },
     "execution_count": 165,
     "metadata": {},
     "output_type": "execute_result"
    }
   ],
   "source": [
    "a"
   ]
  },
  {
   "cell_type": "code",
   "execution_count": 166,
   "id": "faac5c29-1eaa-4a6f-996f-6cc162576970",
   "metadata": {
    "id": "faac5c29-1eaa-4a6f-996f-6cc162576970"
   },
   "outputs": [],
   "source": [
    "#train_df=pd.concat([train_df,a,a])"
   ]
  },
  {
   "cell_type": "code",
   "execution_count": 167,
   "id": "63eccbe5-0fc1-4556-b3ff-86f96f2864eb",
   "metadata": {
    "id": "63eccbe5-0fc1-4556-b3ff-86f96f2864eb"
   },
   "outputs": [],
   "source": [
    "#train_df['income'].value_counts()"
   ]
  },
  {
   "cell_type": "code",
   "execution_count": 168,
   "id": "984916ea-bf14-4af6-ac75-b0b19ee67624",
   "metadata": {
    "id": "984916ea-bf14-4af6-ac75-b0b19ee67624"
   },
   "outputs": [],
   "source": [
    "#x_train=train_df.iloc[:,:-1]\n",
    "#y_train=train_df.iloc[:,[-1]]\n",
    "#x_test=test_df.iloc[:,:-1]\n",
    "#y_test=test_df.iloc[:,[-1]]"
   ]
  },
  {
   "cell_type": "code",
   "execution_count": 169,
   "id": "174089a6-79cf-4738-985d-f63a618bbc74",
   "metadata": {
    "colab": {
     "base_uri": "https://localhost:8080/"
    },
    "id": "174089a6-79cf-4738-985d-f63a618bbc74",
    "outputId": "bf1a965c-0a58-44f8-e2f5-fd2c5ac5739c"
   },
   "outputs": [
    {
     "data": {
      "text/plain": [
       "0    19775\n",
       "1     6273\n",
       "Name: income, dtype: int64"
      ]
     },
     "execution_count": 169,
     "metadata": {},
     "output_type": "execute_result"
    }
   ],
   "source": [
    "y_train.income.value_counts()"
   ]
  },
  {
   "cell_type": "code",
   "execution_count": 170,
   "id": "0297729c-ff81-468d-afa0-e0174e0b12d1",
   "metadata": {
    "colab": {
     "base_uri": "https://localhost:8080/"
    },
    "id": "0297729c-ff81-468d-afa0-e0174e0b12d1",
    "outputId": "fe56b9ab-4ff6-45a7-801b-95182a893213"
   },
   "outputs": [
    {
     "data": {
      "text/plain": [
       "3.152399171050534"
      ]
     },
     "execution_count": 170,
     "metadata": {},
     "output_type": "execute_result"
    }
   ],
   "source": [
    "19775/6273"
   ]
  },
  {
   "cell_type": "code",
   "execution_count": 171,
   "id": "93ff3f89-4598-4b5d-bf58-ee9d854f7643",
   "metadata": {
    "colab": {
     "base_uri": "https://localhost:8080/"
    },
    "id": "93ff3f89-4598-4b5d-bf58-ee9d854f7643",
    "outputId": "3bb38f55-36c4-4dce-e900-0c5bc7285b5c"
   },
   "outputs": [
    {
     "data": {
      "text/plain": [
       "0    4945\n",
       "1    1568\n",
       "Name: income, dtype: int64"
      ]
     },
     "execution_count": 171,
     "metadata": {},
     "output_type": "execute_result"
    }
   ],
   "source": [
    "y_test['income'].value_counts()"
   ]
  },
  {
   "cell_type": "code",
   "execution_count": 172,
   "id": "080d011b-db22-4df4-960e-55d14bd8ae06",
   "metadata": {
    "colab": {
     "base_uri": "https://localhost:8080/"
    },
    "id": "080d011b-db22-4df4-960e-55d14bd8ae06",
    "outputId": "8dca0088-db5c-4541-9a70-496cad0879fb"
   },
   "outputs": [
    {
     "data": {
      "text/plain": [
       "3.153698979591837"
      ]
     },
     "execution_count": 172,
     "metadata": {},
     "output_type": "execute_result"
    }
   ],
   "source": [
    "4945/1568"
   ]
  },
  {
   "cell_type": "markdown",
   "id": "97652f61-573f-4fd5-b4d2-892c80e22161",
   "metadata": {
    "id": "97652f61-573f-4fd5-b4d2-892c80e22161"
   },
   "source": [
    "### here we have succesfully applied stratified sampling "
   ]
  },
  {
   "cell_type": "code",
   "execution_count": 173,
   "id": "d6a5625f-5aae-4de2-ba6f-b3f23638877d",
   "metadata": {
    "id": "d6a5625f-5aae-4de2-ba6f-b3f23638877d"
   },
   "outputs": [],
   "source": [
    "y_train=np.ravel(y_train,order='C')"
   ]
  },
  {
   "cell_type": "code",
   "execution_count": 373,
   "id": "0790abfb-f75e-43a5-a306-58b30f09f3bf",
   "metadata": {},
   "outputs": [],
   "source": [
    "# defining list for appending results\n",
    "result = []"
   ]
  },
  {
   "cell_type": "markdown",
   "id": "4adbe609-301c-422e-97de-8156bc2d072f",
   "metadata": {
    "id": "4adbe609-301c-422e-97de-8156bc2d072f"
   },
   "source": [
    "### logistic regression"
   ]
  },
  {
   "cell_type": "code",
   "execution_count": 174,
   "id": "c89dec39-178b-4fbb-a47e-9c6fc8699ecb",
   "metadata": {
    "id": "c89dec39-178b-4fbb-a47e-9c6fc8699ecb"
   },
   "outputs": [],
   "source": [
    "from sklearn.linear_model import LogisticRegression"
   ]
  },
  {
   "cell_type": "code",
   "execution_count": 175,
   "id": "78755164-1011-4e22-8558-ddafd6957cd5",
   "metadata": {
    "id": "78755164-1011-4e22-8558-ddafd6957cd5"
   },
   "outputs": [],
   "source": [
    "lr=LogisticRegression(random_state=42)"
   ]
  },
  {
   "cell_type": "code",
   "execution_count": 176,
   "id": "4c1e994a-3fb5-434e-a8ab-17a392736c70",
   "metadata": {
    "colab": {
     "base_uri": "https://localhost:8080/"
    },
    "id": "4c1e994a-3fb5-434e-a8ab-17a392736c70",
    "outputId": "02fe94ea-66e3-48f7-d5bc-6a1092490c18"
   },
   "outputs": [
    {
     "data": {
      "text/plain": [
       "LogisticRegression(random_state=42)"
      ]
     },
     "execution_count": 176,
     "metadata": {},
     "output_type": "execute_result"
    }
   ],
   "source": [
    "lr.fit(X_train,y_train)"
   ]
  },
  {
   "cell_type": "code",
   "execution_count": 177,
   "id": "2d301518-ee41-4283-bfcd-2a1e3fa793dd",
   "metadata": {
    "id": "2d301518-ee41-4283-bfcd-2a1e3fa793dd"
   },
   "outputs": [],
   "source": [
    "y_test_pred=lr.predict(X_test)"
   ]
  },
  {
   "cell_type": "code",
   "execution_count": 178,
   "id": "7b1e8d02-80bd-4993-a58e-443301afb14b",
   "metadata": {
    "id": "7b1e8d02-80bd-4993-a58e-443301afb14b"
   },
   "outputs": [],
   "source": [
    "from sklearn.metrics import confusion_matrix"
   ]
  },
  {
   "cell_type": "code",
   "execution_count": 179,
   "id": "c35b0051-52b6-4d76-a68e-e374ee217de3",
   "metadata": {
    "colab": {
     "base_uri": "https://localhost:8080/"
    },
    "id": "c35b0051-52b6-4d76-a68e-e374ee217de3",
    "outputId": "287aa48b-d731-4383-ff10-ff62bf769f83"
   },
   "outputs": [
    {
     "data": {
      "text/plain": [
       "array([[4616,  329],\n",
       "       [ 945,  623]], dtype=int64)"
      ]
     },
     "execution_count": 179,
     "metadata": {},
     "output_type": "execute_result"
    }
   ],
   "source": [
    "confusion_matrix(y_test,y_test_pred)"
   ]
  },
  {
   "cell_type": "code",
   "execution_count": 180,
   "id": "dcc10b41-3438-41bd-9fe5-ab89ac7bb855",
   "metadata": {
    "id": "dcc10b41-3438-41bd-9fe5-ab89ac7bb855"
   },
   "outputs": [],
   "source": [
    "from sklearn import metrics"
   ]
  },
  {
   "cell_type": "code",
   "execution_count": 181,
   "id": "24153755-c4da-4016-b2f6-30cafe8e3ab6",
   "metadata": {
    "id": "24153755-c4da-4016-b2f6-30cafe8e3ab6"
   },
   "outputs": [],
   "source": [
    "y_train_pred = lr.predict(X_train)\n",
    "y_test_pred = lr.predict(X_test)"
   ]
  },
  {
   "cell_type": "code",
   "execution_count": 182,
   "id": "556166bd-7944-4cf9-b87b-71ee6ad35060",
   "metadata": {
    "colab": {
     "base_uri": "https://localhost:8080/"
    },
    "id": "556166bd-7944-4cf9-b87b-71ee6ad35060",
    "outputId": "3cc18822-d5c1-4737-dfc3-54b76f0c470b"
   },
   "outputs": [
    {
     "name": "stdout",
     "output_type": "stream",
     "text": [
      "              precision    recall  f1-score   support\n",
      "\n",
      "           0       0.83      0.93      0.88      4945\n",
      "           1       0.65      0.40      0.49      1568\n",
      "\n",
      "    accuracy                           0.80      6513\n",
      "   macro avg       0.74      0.67      0.69      6513\n",
      "weighted avg       0.79      0.80      0.79      6513\n",
      "\n"
     ]
    }
   ],
   "source": [
    "from sklearn import metrics\n",
    "# accuracy measures by classification report\n",
    "result = metrics.classification_report(y_test,y_test_pred)\n",
    "# print the result\n",
    "print(result)"
   ]
  },
  {
   "cell_type": "markdown",
   "id": "7d077720-9e0f-44ae-89c1-b4c4caa00e3d",
   "metadata": {
    "id": "7d077720-9e0f-44ae-89c1-b4c4caa00e3d"
   },
   "source": [
    "### hyperparamer tunning in logistic regression"
   ]
  },
  {
   "cell_type": "code",
   "execution_count": 183,
   "id": "772b1398-dd7d-4f31-bfc1-d7329f2b2267",
   "metadata": {
    "id": "772b1398-dd7d-4f31-bfc1-d7329f2b2267"
   },
   "outputs": [],
   "source": [
    "lr_grid={'solver' :['newton-cg', 'lbfgs', 'liblinear', 'sag', 'saga'],\n",
    "        'penalty':['elasticnet', 'l1', 'l2']}"
   ]
  },
  {
   "cell_type": "code",
   "execution_count": 184,
   "id": "00788119-c97c-4f2d-858e-7c113ab1b359",
   "metadata": {
    "id": "00788119-c97c-4f2d-858e-7c113ab1b359"
   },
   "outputs": [],
   "source": [
    "from sklearn.model_selection import GridSearchCV"
   ]
  },
  {
   "cell_type": "code",
   "execution_count": 185,
   "id": "ddcd2791-7624-40e7-b47f-9cb482b25844",
   "metadata": {
    "id": "ddcd2791-7624-40e7-b47f-9cb482b25844"
   },
   "outputs": [],
   "source": [
    "grid_lr=GridSearchCV(lr,lr_grid)"
   ]
  },
  {
   "cell_type": "code",
   "execution_count": 186,
   "id": "d611a347-0343-443f-bdfc-619d992e64c8",
   "metadata": {
    "colab": {
     "base_uri": "https://localhost:8080/"
    },
    "id": "d611a347-0343-443f-bdfc-619d992e64c8",
    "outputId": "d221b3b0-0fc6-4289-e59c-6299c232b9a9"
   },
   "outputs": [
    {
     "data": {
      "text/plain": [
       "GridSearchCV(estimator=LogisticRegression(random_state=42),\n",
       "             param_grid={'penalty': ['elasticnet', 'l1', 'l2'],\n",
       "                         'solver': ['newton-cg', 'lbfgs', 'liblinear', 'sag',\n",
       "                                    'saga']})"
      ]
     },
     "execution_count": 186,
     "metadata": {},
     "output_type": "execute_result"
    }
   ],
   "source": [
    "grid_lr.fit(X_train,y_train)"
   ]
  },
  {
   "cell_type": "code",
   "execution_count": 187,
   "id": "f88b3dad-1d8f-44c4-ae5d-a12171b3ff72",
   "metadata": {
    "colab": {
     "base_uri": "https://localhost:8080/"
    },
    "id": "f88b3dad-1d8f-44c4-ae5d-a12171b3ff72",
    "outputId": "4ba9e4ae-5a71-4ffe-f214-83369924db61"
   },
   "outputs": [
    {
     "data": {
      "text/plain": [
       "{'penalty': 'l2', 'solver': 'newton-cg'}"
      ]
     },
     "execution_count": 187,
     "metadata": {},
     "output_type": "execute_result"
    }
   ],
   "source": [
    "grid_lr.best_params_"
   ]
  },
  {
   "cell_type": "code",
   "execution_count": 188,
   "id": "7dbd04da-5c4d-4b36-ab46-535061ac43c2",
   "metadata": {
    "id": "7dbd04da-5c4d-4b36-ab46-535061ac43c2"
   },
   "outputs": [],
   "source": [
    "LR=LogisticRegression(penalty='l2',solver='newton-cg',random_state=42)"
   ]
  },
  {
   "cell_type": "code",
   "execution_count": 189,
   "id": "e57136c9-0235-4df7-9f17-5285531c7e9e",
   "metadata": {
    "colab": {
     "base_uri": "https://localhost:8080/"
    },
    "id": "e57136c9-0235-4df7-9f17-5285531c7e9e",
    "outputId": "99a9da7e-ffb1-4db4-c41a-364a4615916b"
   },
   "outputs": [
    {
     "data": {
      "text/plain": [
       "LogisticRegression(random_state=42, solver='newton-cg')"
      ]
     },
     "execution_count": 189,
     "metadata": {},
     "output_type": "execute_result"
    }
   ],
   "source": [
    "LR.fit(X_train,y_train)"
   ]
  },
  {
   "cell_type": "code",
   "execution_count": 190,
   "id": "df50a8fc-0b06-4693-9f4d-ecfa328e99d2",
   "metadata": {
    "id": "df50a8fc-0b06-4693-9f4d-ecfa328e99d2"
   },
   "outputs": [],
   "source": [
    "y_test_LR=LR.predict(X_test)"
   ]
  },
  {
   "cell_type": "code",
   "execution_count": 191,
   "id": "e059aade-402e-40bd-85a5-7adaf99f2bfd",
   "metadata": {
    "colab": {
     "base_uri": "https://localhost:8080/"
    },
    "id": "e059aade-402e-40bd-85a5-7adaf99f2bfd",
    "outputId": "9d5c94e1-a03b-47c9-974e-e8102591c4b7"
   },
   "outputs": [
    {
     "data": {
      "text/plain": [
       "array([[4616,  329],\n",
       "       [ 945,  623]], dtype=int64)"
      ]
     },
     "execution_count": 191,
     "metadata": {},
     "output_type": "execute_result"
    }
   ],
   "source": [
    "confusion_matrix(y_test,y_test_LR)"
   ]
  },
  {
   "cell_type": "code",
   "execution_count": 192,
   "id": "89ddcd55-0209-4c95-9d19-1763670d9604",
   "metadata": {
    "colab": {
     "base_uri": "https://localhost:8080/"
    },
    "id": "89ddcd55-0209-4c95-9d19-1763670d9604",
    "outputId": "9a93bcf3-0b60-4c7d-f05a-76347d15fe0c"
   },
   "outputs": [
    {
     "name": "stdout",
     "output_type": "stream",
     "text": [
      "0.8043912175648703\n",
      "0.6544117647058824\n"
     ]
    }
   ],
   "source": [
    "print(metrics.accuracy_score(y_test,y_test_LR))\n",
    "print(metrics.precision_score(y_test,y_test_LR))\n"
   ]
  },
  {
   "cell_type": "code",
   "execution_count": 374,
   "id": "f3f99f81-f5d4-42a2-ba31-6742f167f98c",
   "metadata": {
    "id": "f3f99f81-f5d4-42a2-ba31-6742f167f98c"
   },
   "outputs": [
    {
     "data": {
      "text/plain": [
       "0.8043912175648703"
      ]
     },
     "execution_count": 374,
     "metadata": {},
     "output_type": "execute_result"
    }
   ],
   "source": [
    "from sklearn.metrics import accuracy_score\n",
    "lr_acc = accuracy_score(y_test,y_test_LR)\n",
    "result.append(['Logistic Regression',lr_acc])\n",
    "lr_acc"
   ]
  },
  {
   "cell_type": "markdown",
   "id": "afbe71c9-b4f0-46e0-a0ce-9a09aabb9b67",
   "metadata": {
    "id": "afbe71c9-b4f0-46e0-a0ce-9a09aabb9b67"
   },
   "source": [
    "# K - nearest neighbor"
   ]
  },
  {
   "cell_type": "code",
   "execution_count": 197,
   "id": "3bd3c3dc-2bc4-4a33-aec9-6c4c2852641f",
   "metadata": {
    "id": "3bd3c3dc-2bc4-4a33-aec9-6c4c2852641f"
   },
   "outputs": [],
   "source": [
    "from sklearn.neighbors import KNeighborsClassifier"
   ]
  },
  {
   "cell_type": "code",
   "execution_count": 211,
   "id": "b8a63c82-61b6-4fcb-91eb-1ab14eb84311",
   "metadata": {
    "id": "b8a63c82-61b6-4fcb-91eb-1ab14eb84311"
   },
   "outputs": [],
   "source": [
    "knn=KNeighborsClassifier(n_neighbors=8)"
   ]
  },
  {
   "cell_type": "code",
   "execution_count": 212,
   "id": "8dd62bd4-3915-4c5a-bf28-d1e0a263a64b",
   "metadata": {
    "colab": {
     "base_uri": "https://localhost:8080/"
    },
    "id": "8dd62bd4-3915-4c5a-bf28-d1e0a263a64b",
    "outputId": "4147d662-67f8-40a6-fdca-81159c53e29c"
   },
   "outputs": [
    {
     "data": {
      "text/plain": [
       "KNeighborsClassifier(n_neighbors=8)"
      ]
     },
     "execution_count": 212,
     "metadata": {},
     "output_type": "execute_result"
    }
   ],
   "source": [
    "knn.fit(X_train,y_train)"
   ]
  },
  {
   "cell_type": "code",
   "execution_count": 213,
   "id": "49692606-ed66-44ef-8687-20f45ccd92fd",
   "metadata": {
    "id": "49692606-ed66-44ef-8687-20f45ccd92fd"
   },
   "outputs": [],
   "source": [
    "y_pred_train_knn=knn.predict(X_train)\n",
    "y_pred_knn=knn.predict(X_test)"
   ]
  },
  {
   "cell_type": "code",
   "execution_count": 214,
   "id": "cdb17361-f432-4145-9d73-b7c3497d33ef",
   "metadata": {
    "colab": {
     "base_uri": "https://localhost:8080/"
    },
    "id": "cdb17361-f432-4145-9d73-b7c3497d33ef",
    "outputId": "89a2a51c-b8e0-4ccb-cc4e-8569c7c2826c"
   },
   "outputs": [
    {
     "data": {
      "text/plain": [
       "array([[4583,  362],\n",
       "       [ 773,  795]], dtype=int64)"
      ]
     },
     "execution_count": 214,
     "metadata": {},
     "output_type": "execute_result"
    }
   ],
   "source": [
    "confusion_matrix(y_test,y_pred_knn)"
   ]
  },
  {
   "cell_type": "code",
   "execution_count": 215,
   "id": "62854edb-4df4-43a6-a464-f6220f836c33",
   "metadata": {
    "colab": {
     "base_uri": "https://localhost:8080/"
    },
    "id": "62854edb-4df4-43a6-a464-f6220f836c33",
    "outputId": "70155cd2-dd12-475f-eda2-4db65ca0d672"
   },
   "outputs": [
    {
     "data": {
      "text/plain": [
       "0.8491246928746928"
      ]
     },
     "execution_count": 215,
     "metadata": {},
     "output_type": "execute_result"
    }
   ],
   "source": [
    "metrics.accuracy_score(y_train,y_pred_train_knn)"
   ]
  },
  {
   "cell_type": "code",
   "execution_count": 216,
   "id": "6cdb0cf6-0eb4-4729-8a81-933345cdfce2",
   "metadata": {
    "colab": {
     "base_uri": "https://localhost:8080/"
    },
    "id": "6cdb0cf6-0eb4-4729-8a81-933345cdfce2",
    "outputId": "4a7a9b49-8374-47d2-afe1-c90b14d7d469"
   },
   "outputs": [
    {
     "data": {
      "text/plain": [
       "0.8257331490864425"
      ]
     },
     "execution_count": 216,
     "metadata": {},
     "output_type": "execute_result"
    }
   ],
   "source": [
    "metrics.accuracy_score(y_test,y_pred_knn)"
   ]
  },
  {
   "cell_type": "markdown",
   "id": "fee25ecf-1377-4f22-8dd3-bb38af6848c7",
   "metadata": {
    "id": "fee25ecf-1377-4f22-8dd3-bb38af6848c7"
   },
   "source": [
    "### cross validation of Knn"
   ]
  },
  {
   "cell_type": "code",
   "execution_count": 217,
   "id": "fee1b16c-07d6-49da-be1e-6aede35f91cd",
   "metadata": {
    "id": "fee1b16c-07d6-49da-be1e-6aede35f91cd"
   },
   "outputs": [],
   "source": [
    "parameter_dict={'n_neighbors':list(range(21,50,2)),'p':[1,2],\n",
    "    'metric':['minkowski','manhattan_distance','euclidean_distance'],'weights' : ['uniform', 'distance']}"
   ]
  },
  {
   "cell_type": "code",
   "execution_count": 218,
   "id": "12ac3c48-52fd-43d9-8786-d63e3246c83f",
   "metadata": {
    "id": "12ac3c48-52fd-43d9-8786-d63e3246c83f"
   },
   "outputs": [],
   "source": [
    "grid_df=GridSearchCV(knn,param_grid=parameter_dict)"
   ]
  },
  {
   "cell_type": "code",
   "execution_count": 219,
   "id": "abc2db34-6d0c-4389-b719-5a85c37f8f7d",
   "metadata": {
    "colab": {
     "base_uri": "https://localhost:8080/"
    },
    "id": "abc2db34-6d0c-4389-b719-5a85c37f8f7d",
    "outputId": "ffb8336a-1ff2-4a02-f38f-57dbebb9c4b7"
   },
   "outputs": [
    {
     "data": {
      "text/plain": [
       "GridSearchCV(estimator=KNeighborsClassifier(n_neighbors=8),\n",
       "             param_grid={'metric': ['minkowski', 'manhattan_distance',\n",
       "                                    'euclidean_distance'],\n",
       "                         'n_neighbors': [21, 23, 25, 27, 29, 31, 33, 35, 37, 39,\n",
       "                                         41, 43, 45, 47, 49],\n",
       "                         'p': [1, 2], 'weights': ['uniform', 'distance']})"
      ]
     },
     "execution_count": 219,
     "metadata": {},
     "output_type": "execute_result"
    }
   ],
   "source": [
    "grid_df.fit(X_train,y_train)"
   ]
  },
  {
   "cell_type": "code",
   "execution_count": 220,
   "id": "4c344ca1-4fe8-44f2-ad94-ad6f8367d90e",
   "metadata": {
    "colab": {
     "base_uri": "https://localhost:8080/"
    },
    "id": "4c344ca1-4fe8-44f2-ad94-ad6f8367d90e",
    "outputId": "77e6413e-1bdb-4b6b-ce9c-530f13022d67"
   },
   "outputs": [
    {
     "data": {
      "text/plain": [
       "{'metric': 'minkowski', 'n_neighbors': 45, 'p': 1, 'weights': 'uniform'}"
      ]
     },
     "execution_count": 220,
     "metadata": {},
     "output_type": "execute_result"
    }
   ],
   "source": [
    "grid_df.best_params_"
   ]
  },
  {
   "cell_type": "code",
   "execution_count": 221,
   "id": "fb32a06b-8246-438a-905e-c6f35ae946d8",
   "metadata": {
    "id": "fb32a06b-8246-438a-905e-c6f35ae946d8"
   },
   "outputs": [],
   "source": [
    "knn=KNeighborsClassifier(metric= 'minkowski', n_neighbors= 45, p=1, weights= 'uniform')"
   ]
  },
  {
   "cell_type": "code",
   "execution_count": 222,
   "id": "cae23493-970b-4ebb-bd66-2ca45e3cde8e",
   "metadata": {
    "id": "cae23493-970b-4ebb-bd66-2ca45e3cde8e"
   },
   "outputs": [
    {
     "data": {
      "text/plain": [
       "KNeighborsClassifier(n_neighbors=45, p=1)"
      ]
     },
     "execution_count": 222,
     "metadata": {},
     "output_type": "execute_result"
    }
   ],
   "source": [
    "knn.fit(X_train,y_train)"
   ]
  },
  {
   "cell_type": "code",
   "execution_count": 229,
   "id": "53874d4d-d571-4989-9d42-6851f5ccadb9",
   "metadata": {},
   "outputs": [],
   "source": [
    "y_pred_train_knn=knn.predict(X_train)"
   ]
  },
  {
   "cell_type": "code",
   "execution_count": 223,
   "id": "130d3d64-1b73-4772-91d4-f702741bbbee",
   "metadata": {
    "id": "130d3d64-1b73-4772-91d4-f702741bbbee"
   },
   "outputs": [],
   "source": [
    "y_pred_tunned_knn=knn.predict(X_test)"
   ]
  },
  {
   "cell_type": "code",
   "execution_count": 224,
   "id": "20ab60e0-6a97-4b44-9ba4-bd7e2eea79f2",
   "metadata": {
    "id": "20ab60e0-6a97-4b44-9ba4-bd7e2eea79f2"
   },
   "outputs": [
    {
     "data": {
      "text/plain": [
       "array([[4503,  442],\n",
       "       [ 675,  893]], dtype=int64)"
      ]
     },
     "execution_count": 224,
     "metadata": {},
     "output_type": "execute_result"
    }
   ],
   "source": [
    "confusion_matrix(y_test,y_pred_tunned_knn)"
   ]
  },
  {
   "cell_type": "code",
   "execution_count": 230,
   "id": "1460ac01-eda9-4a90-8129-ce5ed3989b3f",
   "metadata": {},
   "outputs": [
    {
     "data": {
      "text/plain": [
       "0.8354960073710074"
      ]
     },
     "execution_count": 230,
     "metadata": {},
     "output_type": "execute_result"
    }
   ],
   "source": [
    "metrics.accuracy_score(y_train,y_pred_train_knn)"
   ]
  },
  {
   "cell_type": "code",
   "execution_count": 225,
   "id": "a3694f7e-2caa-4519-b066-6147ffff144a",
   "metadata": {
    "id": "a3694f7e-2caa-4519-b066-6147ffff144a"
   },
   "outputs": [
    {
     "data": {
      "text/plain": [
       "0.8284968524489482"
      ]
     },
     "execution_count": 225,
     "metadata": {},
     "output_type": "execute_result"
    }
   ],
   "source": [
    "metrics.accuracy_score(y_test,y_pred_tunned_knn)"
   ]
  },
  {
   "cell_type": "code",
   "execution_count": 375,
   "id": "287ad3d7-8c10-45da-a000-56aa011eedce",
   "metadata": {},
   "outputs": [
    {
     "data": {
      "text/plain": [
       "0.8284968524489482"
      ]
     },
     "execution_count": 375,
     "metadata": {},
     "output_type": "execute_result"
    }
   ],
   "source": [
    "knn_acc = accuracy_score(y_test,y_pred_tunned_knn)\n",
    "result.append(['K- nearest neighbor',knn_acc])\n",
    "knn_acc"
   ]
  },
  {
   "cell_type": "markdown",
   "id": "3ed8395f-907c-4e12-b017-1378521cb5c1",
   "metadata": {
    "id": "3ed8395f-907c-4e12-b017-1378521cb5c1"
   },
   "source": [
    "# decision tree"
   ]
  },
  {
   "cell_type": "code",
   "execution_count": 231,
   "id": "87bd0f1c-e183-4ae8-8538-319c22d9f9c4",
   "metadata": {
    "id": "87bd0f1c-e183-4ae8-8538-319c22d9f9c4"
   },
   "outputs": [],
   "source": [
    "from sklearn.tree import DecisionTreeClassifier"
   ]
  },
  {
   "cell_type": "code",
   "execution_count": 232,
   "id": "360ec716-403f-4f14-96cc-7f29e3c99946",
   "metadata": {
    "id": "360ec716-403f-4f14-96cc-7f29e3c99946"
   },
   "outputs": [],
   "source": [
    "dt=DecisionTreeClassifier()"
   ]
  },
  {
   "cell_type": "code",
   "execution_count": 233,
   "id": "e65c81a4-9269-4b16-90b5-0054348b6e0e",
   "metadata": {
    "colab": {
     "base_uri": "https://localhost:8080/"
    },
    "id": "e65c81a4-9269-4b16-90b5-0054348b6e0e",
    "outputId": "c8f01cb9-4c37-42bf-e929-d0e37f7c81a8"
   },
   "outputs": [
    {
     "data": {
      "text/plain": [
       "DecisionTreeClassifier()"
      ]
     },
     "execution_count": 233,
     "metadata": {},
     "output_type": "execute_result"
    }
   ],
   "source": [
    "dt.fit(X_train,y_train)"
   ]
  },
  {
   "cell_type": "code",
   "execution_count": 234,
   "id": "341fb083-2554-455c-b3d3-3dd15eb5ec72",
   "metadata": {
    "id": "341fb083-2554-455c-b3d3-3dd15eb5ec72"
   },
   "outputs": [],
   "source": [
    "y_pred_dt=dt.predict(X_test)"
   ]
  },
  {
   "cell_type": "code",
   "execution_count": 235,
   "id": "a1572f0a-7417-49b1-9a48-b5616fb03fbf",
   "metadata": {
    "colab": {
     "base_uri": "https://localhost:8080/"
    },
    "id": "a1572f0a-7417-49b1-9a48-b5616fb03fbf",
    "outputId": "ed0b5f43-88b6-4347-a002-8f921cec26f6"
   },
   "outputs": [
    {
     "data": {
      "text/plain": [
       "array([[4301,  644],\n",
       "       [ 753,  815]], dtype=int64)"
      ]
     },
     "execution_count": 235,
     "metadata": {},
     "output_type": "execute_result"
    }
   ],
   "source": [
    "confusion_matrix(y_test,y_pred_dt)"
   ]
  },
  {
   "cell_type": "code",
   "execution_count": 236,
   "id": "f786472c-cdf0-4fa6-95e0-64670f62aafc",
   "metadata": {
    "colab": {
     "base_uri": "https://localhost:8080/"
    },
    "id": "f786472c-cdf0-4fa6-95e0-64670f62aafc",
    "outputId": "f76dbb02-0516-40f4-e6b4-c8ded5156c0d"
   },
   "outputs": [
    {
     "data": {
      "text/plain": [
       "0.7855059112544143"
      ]
     },
     "execution_count": 236,
     "metadata": {},
     "output_type": "execute_result"
    }
   ],
   "source": [
    "metrics.accuracy_score(y_test,y_pred_dt)"
   ]
  },
  {
   "cell_type": "markdown",
   "id": "0eaf1c43-e97a-4400-8a19-ca43c6316746",
   "metadata": {
    "id": "0eaf1c43-e97a-4400-8a19-ca43c6316746"
   },
   "source": [
    "### hyper-parameter tunning for decision tree"
   ]
  },
  {
   "cell_type": "code",
   "execution_count": 241,
   "id": "9b250756-6eb8-4174-a465-e6c821614560",
   "metadata": {
    "id": "9b250756-6eb8-4174-a465-e6c821614560"
   },
   "outputs": [],
   "source": [
    "parameter_dict={'criterion':['gini','entropy'],'max_depth':list(range(1,50,5)),\n",
    "    'min_samples_split':[2,3,4,5,6,7],\n",
    "     'min_samples_leaf':[1,2,3,4]}"
   ]
  },
  {
   "cell_type": "code",
   "execution_count": 242,
   "id": "6a249b2b-913f-4b9c-93a4-95a12d2dc16b",
   "metadata": {
    "id": "6a249b2b-913f-4b9c-93a4-95a12d2dc16b"
   },
   "outputs": [],
   "source": [
    "from sklearn.model_selection import GridSearchCV"
   ]
  },
  {
   "cell_type": "code",
   "execution_count": 243,
   "id": "4b7b13e2-9e4f-4b7b-97dd-20ad4f2dd399",
   "metadata": {
    "id": "4b7b13e2-9e4f-4b7b-97dd-20ad4f2dd399"
   },
   "outputs": [],
   "source": [
    "grid_model=GridSearchCV(dt,param_grid=parameter_dict)"
   ]
  },
  {
   "cell_type": "code",
   "execution_count": 244,
   "id": "f5770fed-3da1-4584-8e8a-c3ce671df4fb",
   "metadata": {
    "colab": {
     "base_uri": "https://localhost:8080/"
    },
    "id": "f5770fed-3da1-4584-8e8a-c3ce671df4fb",
    "outputId": "a5f07459-5b5e-4e6f-f532-c2625687e400"
   },
   "outputs": [
    {
     "data": {
      "text/plain": [
       "GridSearchCV(estimator=DecisionTreeClassifier(),\n",
       "             param_grid={'criterion': ['gini', 'entropy'],\n",
       "                         'max_depth': [1, 6, 11, 16, 21, 26, 31, 36, 41, 46],\n",
       "                         'min_samples_leaf': [1, 2, 3, 4],\n",
       "                         'min_samples_split': [2, 3, 4, 5, 6, 7]})"
      ]
     },
     "execution_count": 244,
     "metadata": {},
     "output_type": "execute_result"
    }
   ],
   "source": [
    "grid_model.fit(X_train,y_train)"
   ]
  },
  {
   "cell_type": "code",
   "execution_count": 245,
   "id": "1d854e09-5775-4cef-8ecd-66a6bf19f98a",
   "metadata": {
    "colab": {
     "base_uri": "https://localhost:8080/"
    },
    "id": "1d854e09-5775-4cef-8ecd-66a6bf19f98a",
    "outputId": "b3bb9330-7973-43c3-af4f-05a8c9fd4693"
   },
   "outputs": [
    {
     "data": {
      "text/plain": [
       "{'criterion': 'entropy',\n",
       " 'max_depth': 11,\n",
       " 'min_samples_leaf': 4,\n",
       " 'min_samples_split': 2}"
      ]
     },
     "execution_count": 245,
     "metadata": {},
     "output_type": "execute_result"
    }
   ],
   "source": [
    "grid_model.best_params_"
   ]
  },
  {
   "cell_type": "code",
   "execution_count": 246,
   "id": "413656b6-e1e7-4359-a127-6b327e7d796c",
   "metadata": {
    "id": "413656b6-e1e7-4359-a127-6b327e7d796c"
   },
   "outputs": [],
   "source": [
    "dt_grid=DecisionTreeClassifier(criterion= 'entropy', max_depth=11, min_samples_split=3,min_samples_leaf= 4,random_state=42)"
   ]
  },
  {
   "cell_type": "code",
   "execution_count": 247,
   "id": "626a47c9-580d-41ce-a2ea-6548c1f3bd41",
   "metadata": {
    "colab": {
     "base_uri": "https://localhost:8080/"
    },
    "id": "626a47c9-580d-41ce-a2ea-6548c1f3bd41",
    "outputId": "ea8482af-cc39-4ad1-e716-335f1f8b3c32"
   },
   "outputs": [
    {
     "data": {
      "text/plain": [
       "DecisionTreeClassifier(criterion='entropy', max_depth=11, min_samples_leaf=4,\n",
       "                       min_samples_split=3, random_state=42)"
      ]
     },
     "execution_count": 247,
     "metadata": {},
     "output_type": "execute_result"
    }
   ],
   "source": [
    "dt_grid.fit(X_train,y_train)"
   ]
  },
  {
   "cell_type": "code",
   "execution_count": 251,
   "id": "7f21e79c-42d8-42c3-b83d-617db631f95d",
   "metadata": {},
   "outputs": [],
   "source": [
    "y_pred_train_pred = dt_grid.predict(X_train)"
   ]
  },
  {
   "cell_type": "code",
   "execution_count": 248,
   "id": "1ffc6d1e-06a1-467a-81a9-310b7b866b1d",
   "metadata": {
    "id": "1ffc6d1e-06a1-467a-81a9-310b7b866b1d"
   },
   "outputs": [],
   "source": [
    "y_pred_dt_grid=dt_grid.predict(X_test)"
   ]
  },
  {
   "cell_type": "code",
   "execution_count": 249,
   "id": "d85d49a7-51c4-4981-88f6-07bd6c7bd78a",
   "metadata": {
    "colab": {
     "base_uri": "https://localhost:8080/"
    },
    "id": "d85d49a7-51c4-4981-88f6-07bd6c7bd78a",
    "outputId": "2b83d219-3484-40a9-e315-f556429310cd"
   },
   "outputs": [
    {
     "data": {
      "text/plain": [
       "array([[4546,  399],\n",
       "       [ 730,  838]], dtype=int64)"
      ]
     },
     "execution_count": 249,
     "metadata": {},
     "output_type": "execute_result"
    }
   ],
   "source": [
    "\n",
    "metrics.confusion_matrix(y_test,y_pred_dt_grid)"
   ]
  },
  {
   "cell_type": "code",
   "execution_count": 252,
   "id": "54a6d7ef-551a-4582-acf9-1fc30e1587a0",
   "metadata": {},
   "outputs": [
    {
     "data": {
      "text/plain": [
       "0.8457463144963145"
      ]
     },
     "execution_count": 252,
     "metadata": {},
     "output_type": "execute_result"
    }
   ],
   "source": [
    "metrics.accuracy_score(y_train,y_pred_train_pred)"
   ]
  },
  {
   "cell_type": "code",
   "execution_count": 253,
   "id": "fb782014-8603-4189-bc54-eba6c71b9496",
   "metadata": {
    "colab": {
     "base_uri": "https://localhost:8080/"
    },
    "id": "fb782014-8603-4189-bc54-eba6c71b9496",
    "outputId": "3db8b195-3b54-482d-de44-eae57c3844aa"
   },
   "outputs": [
    {
     "data": {
      "text/plain": [
       "0.826654383540611"
      ]
     },
     "execution_count": 253,
     "metadata": {},
     "output_type": "execute_result"
    }
   ],
   "source": [
    "metrics.accuracy_score(y_test,y_pred_dt_grid)"
   ]
  },
  {
   "cell_type": "code",
   "execution_count": 254,
   "id": "5df30543-98b4-480b-908f-9bb450702b59",
   "metadata": {
    "colab": {
     "base_uri": "https://localhost:8080/"
    },
    "id": "5df30543-98b4-480b-908f-9bb450702b59",
    "outputId": "c3f7f94b-7080-430b-dabd-9ce7834c6238"
   },
   "outputs": [
    {
     "data": {
      "text/plain": [
       "0.7268756061575288"
      ]
     },
     "execution_count": 254,
     "metadata": {},
     "output_type": "execute_result"
    }
   ],
   "source": [
    "metrics.roc_auc_score(y_test,y_pred_dt_grid)"
   ]
  },
  {
   "cell_type": "code",
   "execution_count": 376,
   "id": "6c8fcf5a-dde4-44a3-b4d1-4b51009e4aec",
   "metadata": {},
   "outputs": [
    {
     "data": {
      "text/plain": [
       "0.826654383540611"
      ]
     },
     "execution_count": 376,
     "metadata": {},
     "output_type": "execute_result"
    }
   ],
   "source": [
    "dt_acc = accuracy_score(y_test,y_pred_dt_grid)\n",
    "result.append(['Decision Tree  classifier',dt_acc])\n",
    "dt_acc"
   ]
  },
  {
   "cell_type": "markdown",
   "id": "d0ffd880-8a8f-41ce-b0fe-79c3164b8c08",
   "metadata": {
    "id": "d0ffd880-8a8f-41ce-b0fe-79c3164b8c08"
   },
   "source": [
    "### feature selection"
   ]
  },
  {
   "cell_type": "code",
   "execution_count": 255,
   "id": "0008f0be-d23c-40ad-9fea-6d27d9c0e68f",
   "metadata": {
    "id": "0008f0be-d23c-40ad-9fea-6d27d9c0e68f"
   },
   "outputs": [],
   "source": [
    "from sklearn.feature_selection import SequentialFeatureSelector"
   ]
  },
  {
   "cell_type": "code",
   "execution_count": 256,
   "id": "16401d1e-21ea-4ab7-90bc-9e8733a008da",
   "metadata": {
    "id": "16401d1e-21ea-4ab7-90bc-9e8733a008da"
   },
   "outputs": [],
   "source": [
    "fetured_df=pd.DataFrame({'features':X_train.columns,'importance':dt.feature_importances_})"
   ]
  },
  {
   "cell_type": "code",
   "execution_count": 257,
   "id": "268a58f0-ed7d-4d3e-9f2c-43c2cf6bf9c6",
   "metadata": {
    "colab": {
     "base_uri": "https://localhost:8080/",
     "height": 363
    },
    "id": "268a58f0-ed7d-4d3e-9f2c-43c2cf6bf9c6",
    "outputId": "deb1596f-1908-4585-af64-a38ec2ace4de"
   },
   "outputs": [
    {
     "data": {
      "text/html": [
       "<div>\n",
       "<style scoped>\n",
       "    .dataframe tbody tr th:only-of-type {\n",
       "        vertical-align: middle;\n",
       "    }\n",
       "\n",
       "    .dataframe tbody tr th {\n",
       "        vertical-align: top;\n",
       "    }\n",
       "\n",
       "    .dataframe thead th {\n",
       "        text-align: right;\n",
       "    }\n",
       "</style>\n",
       "<table border=\"1\" class=\"dataframe\">\n",
       "  <thead>\n",
       "    <tr style=\"text-align: right;\">\n",
       "      <th></th>\n",
       "      <th>features</th>\n",
       "      <th>importance</th>\n",
       "    </tr>\n",
       "  </thead>\n",
       "  <tbody>\n",
       "    <tr>\n",
       "      <th>0</th>\n",
       "      <td>age</td>\n",
       "      <td>0.239627</td>\n",
       "    </tr>\n",
       "    <tr>\n",
       "      <th>4</th>\n",
       "      <td>marital.status</td>\n",
       "      <td>0.231112</td>\n",
       "    </tr>\n",
       "    <tr>\n",
       "      <th>3</th>\n",
       "      <td>education.num</td>\n",
       "      <td>0.173727</td>\n",
       "    </tr>\n",
       "    <tr>\n",
       "      <th>5</th>\n",
       "      <td>occupation</td>\n",
       "      <td>0.097461</td>\n",
       "    </tr>\n",
       "    <tr>\n",
       "      <th>8</th>\n",
       "      <td>hours.per.week</td>\n",
       "      <td>0.075773</td>\n",
       "    </tr>\n",
       "    <tr>\n",
       "      <th>1</th>\n",
       "      <td>workclass</td>\n",
       "      <td>0.073328</td>\n",
       "    </tr>\n",
       "    <tr>\n",
       "      <th>9</th>\n",
       "      <td>native.country</td>\n",
       "      <td>0.030566</td>\n",
       "    </tr>\n",
       "    <tr>\n",
       "      <th>6</th>\n",
       "      <td>race</td>\n",
       "      <td>0.029347</td>\n",
       "    </tr>\n",
       "    <tr>\n",
       "      <th>7</th>\n",
       "      <td>sex</td>\n",
       "      <td>0.025399</td>\n",
       "    </tr>\n",
       "    <tr>\n",
       "      <th>2</th>\n",
       "      <td>education</td>\n",
       "      <td>0.023659</td>\n",
       "    </tr>\n",
       "  </tbody>\n",
       "</table>\n",
       "</div>"
      ],
      "text/plain": [
       "         features  importance\n",
       "0             age    0.239627\n",
       "4  marital.status    0.231112\n",
       "3   education.num    0.173727\n",
       "5      occupation    0.097461\n",
       "8  hours.per.week    0.075773\n",
       "1       workclass    0.073328\n",
       "9  native.country    0.030566\n",
       "6            race    0.029347\n",
       "7             sex    0.025399\n",
       "2       education    0.023659"
      ]
     },
     "execution_count": 257,
     "metadata": {},
     "output_type": "execute_result"
    }
   ],
   "source": [
    "fetured_df.sort_values(by='importance',ascending=False)"
   ]
  },
  {
   "cell_type": "markdown",
   "id": "e52e2b31-b577-4749-8413-4664467df7b4",
   "metadata": {
    "id": "e52e2b31-b577-4749-8413-4664467df7b4"
   },
   "source": [
    "# random forest"
   ]
  },
  {
   "cell_type": "code",
   "execution_count": 258,
   "id": "a0111cf0-ab4b-47b4-9e6a-eb706355cbf2",
   "metadata": {
    "id": "a0111cf0-ab4b-47b4-9e6a-eb706355cbf2"
   },
   "outputs": [],
   "source": [
    "from sklearn.ensemble import RandomForestClassifier"
   ]
  },
  {
   "cell_type": "code",
   "execution_count": 259,
   "id": "23e970dc-a386-430a-bfbb-40467764e38b",
   "metadata": {
    "id": "23e970dc-a386-430a-bfbb-40467764e38b"
   },
   "outputs": [],
   "source": [
    "rf=RandomForestClassifier()"
   ]
  },
  {
   "cell_type": "code",
   "execution_count": 260,
   "id": "41b041a2-861e-40a9-8aed-e7faa2bfb23e",
   "metadata": {
    "colab": {
     "base_uri": "https://localhost:8080/"
    },
    "id": "41b041a2-861e-40a9-8aed-e7faa2bfb23e",
    "outputId": "7f8e5453-795f-46a2-88a1-915d8e05e995"
   },
   "outputs": [
    {
     "data": {
      "text/plain": [
       "RandomForestClassifier()"
      ]
     },
     "execution_count": 260,
     "metadata": {},
     "output_type": "execute_result"
    }
   ],
   "source": [
    "rf.fit(X_train,y_train)"
   ]
  },
  {
   "cell_type": "code",
   "execution_count": 261,
   "id": "96bda627-cde5-4a61-8cd3-9e7af3649c69",
   "metadata": {
    "id": "96bda627-cde5-4a61-8cd3-9e7af3649c69"
   },
   "outputs": [],
   "source": [
    "y_pred_rf=rf.predict(X_test)"
   ]
  },
  {
   "cell_type": "code",
   "execution_count": 262,
   "id": "b05f0aba-6ebb-4c54-812c-e370f80f654c",
   "metadata": {
    "colab": {
     "base_uri": "https://localhost:8080/"
    },
    "id": "b05f0aba-6ebb-4c54-812c-e370f80f654c",
    "outputId": "74624618-1a5c-4abf-9885-ad0efef96c01"
   },
   "outputs": [
    {
     "data": {
      "text/plain": [
       "array([[4423,  522],\n",
       "       [ 687,  881]], dtype=int64)"
      ]
     },
     "execution_count": 262,
     "metadata": {},
     "output_type": "execute_result"
    }
   ],
   "source": [
    "confusion_matrix(y_test,y_pred_rf)"
   ]
  },
  {
   "cell_type": "code",
   "execution_count": 263,
   "id": "bd61ce2e-1820-4082-831b-318a6db3b8ae",
   "metadata": {
    "colab": {
     "base_uri": "https://localhost:8080/"
    },
    "id": "bd61ce2e-1820-4082-831b-318a6db3b8ae",
    "outputId": "7ba38036-8e65-4fbf-c212-9c6bc4ddaa3e"
   },
   "outputs": [
    {
     "data": {
      "text/plain": [
       "0.8143712574850299"
      ]
     },
     "execution_count": 263,
     "metadata": {},
     "output_type": "execute_result"
    }
   ],
   "source": [
    "metrics.accuracy_score(y_test,y_pred_rf)"
   ]
  },
  {
   "cell_type": "code",
   "execution_count": 264,
   "id": "b6e217c4-74c3-4ffc-b5b8-a32dbe8e68c7",
   "metadata": {
    "colab": {
     "base_uri": "https://localhost:8080/"
    },
    "id": "b6e217c4-74c3-4ffc-b5b8-a32dbe8e68c7",
    "outputId": "7d350227-1c45-4e3f-9a2b-4dac5c3f43a4"
   },
   "outputs": [
    {
     "data": {
      "text/plain": [
       "0.6279401282965075"
      ]
     },
     "execution_count": 264,
     "metadata": {},
     "output_type": "execute_result"
    }
   ],
   "source": [
    "metrics.precision_score(y_test,y_pred_rf)"
   ]
  },
  {
   "cell_type": "code",
   "execution_count": 265,
   "id": "9c4b04b4-927e-483f-bd07-055e05e38c5c",
   "metadata": {
    "colab": {
     "base_uri": "https://localhost:8080/"
    },
    "id": "9c4b04b4-927e-483f-bd07-055e05e38c5c",
    "outputId": "f3f5bdd5-1fbf-4332-88f3-25d4788e05a6"
   },
   "outputs": [
    {
     "data": {
      "text/plain": [
       "0.5618622448979592"
      ]
     },
     "execution_count": 265,
     "metadata": {},
     "output_type": "execute_result"
    }
   ],
   "source": [
    "metrics.recall_score(y_test,y_pred_rf)"
   ]
  },
  {
   "cell_type": "markdown",
   "id": "44bb55ec-4a1b-46ed-be2a-8bd824c27d44",
   "metadata": {
    "id": "44bb55ec-4a1b-46ed-be2a-8bd824c27d44"
   },
   "source": [
    "## hyperparameter tunning for random forest"
   ]
  },
  {
   "cell_type": "code",
   "execution_count": 266,
   "id": "201cf754-1a72-4d7a-9f17-829bb0d6c432",
   "metadata": {
    "id": "201cf754-1a72-4d7a-9f17-829bb0d6c432"
   },
   "outputs": [],
   "source": [
    "parameter_dict={'n_estimators':list(range(1,100,20)),\n",
    "    'criterion':['gini','entropy'],\n",
    "    'max_depth':list(range(1,51,10)),\n",
    "    'min_samples_split':list(range(1,10,2)),\n",
    "    'min_samples_leaf':[1,2,3,4]}\n",
    "    "
   ]
  },
  {
   "cell_type": "code",
   "execution_count": 267,
   "id": "c8b6b36a-a606-4763-a870-d1f565d36238",
   "metadata": {
    "id": "c8b6b36a-a606-4763-a870-d1f565d36238"
   },
   "outputs": [],
   "source": [
    "from sklearn.model_selection import GridSearchCV"
   ]
  },
  {
   "cell_type": "code",
   "execution_count": 268,
   "id": "949596a9-e419-41e9-b20a-9ad1b5a877a2",
   "metadata": {
    "id": "949596a9-e419-41e9-b20a-9ad1b5a877a2"
   },
   "outputs": [],
   "source": [
    "rf_grid=GridSearchCV(rf,param_grid=parameter_dict)"
   ]
  },
  {
   "cell_type": "code",
   "execution_count": 269,
   "id": "3392853c-2aae-4389-aa31-3c467fecde19",
   "metadata": {
    "id": "3392853c-2aae-4389-aa31-3c467fecde19"
   },
   "outputs": [
    {
     "data": {
      "text/plain": [
       "GridSearchCV(estimator=RandomForestClassifier(),\n",
       "             param_grid={'criterion': ['gini', 'entropy'],\n",
       "                         'max_depth': [1, 11, 21, 31, 41],\n",
       "                         'min_samples_leaf': [1, 2, 3, 4],\n",
       "                         'min_samples_split': [1, 3, 5, 7, 9],\n",
       "                         'n_estimators': [1, 21, 41, 61, 81]})"
      ]
     },
     "execution_count": 269,
     "metadata": {},
     "output_type": "execute_result"
    }
   ],
   "source": [
    "rf_grid.fit(X_train,y_train)"
   ]
  },
  {
   "cell_type": "code",
   "execution_count": 270,
   "id": "cb7ecfbf-d064-4ae6-a9e4-e95e09ea7362",
   "metadata": {
    "id": "cb7ecfbf-d064-4ae6-a9e4-e95e09ea7362"
   },
   "outputs": [
    {
     "data": {
      "text/plain": [
       "{'criterion': 'gini',\n",
       " 'max_depth': 11,\n",
       " 'min_samples_leaf': 3,\n",
       " 'min_samples_split': 5,\n",
       " 'n_estimators': 61}"
      ]
     },
     "execution_count": 270,
     "metadata": {},
     "output_type": "execute_result"
    }
   ],
   "source": [
    "rf_grid.best_params_"
   ]
  },
  {
   "cell_type": "code",
   "execution_count": 271,
   "id": "a3f1ff92-72d6-4eac-b12d-3247e8cb585f",
   "metadata": {
    "id": "a3f1ff92-72d6-4eac-b12d-3247e8cb585f"
   },
   "outputs": [],
   "source": [
    "rf=RandomForestClassifier(n_estimators=81,criterion='gini', max_depth=11, min_samples_split= 5,min_samples_leaf= 2)"
   ]
  },
  {
   "cell_type": "code",
   "execution_count": 272,
   "id": "be21e83e-7b40-43a7-8c45-1adb98efad17",
   "metadata": {
    "id": "be21e83e-7b40-43a7-8c45-1adb98efad17"
   },
   "outputs": [
    {
     "data": {
      "text/plain": [
       "RandomForestClassifier(max_depth=11, min_samples_leaf=2, min_samples_split=5,\n",
       "                       n_estimators=81)"
      ]
     },
     "execution_count": 272,
     "metadata": {},
     "output_type": "execute_result"
    }
   ],
   "source": [
    "rf.fit(X_train,y_train)"
   ]
  },
  {
   "cell_type": "code",
   "execution_count": 273,
   "id": "77933afc-b329-47bb-a01b-b404aaf462fa",
   "metadata": {
    "id": "77933afc-b329-47bb-a01b-b404aaf462fa"
   },
   "outputs": [],
   "source": [
    "y_pred_rf=rf.predict(X_test)"
   ]
  },
  {
   "cell_type": "code",
   "execution_count": 274,
   "id": "b05bf194-fccc-4e00-b654-01d3cd399952",
   "metadata": {
    "id": "b05bf194-fccc-4e00-b654-01d3cd399952"
   },
   "outputs": [
    {
     "data": {
      "text/plain": [
       "array([[4596,  349],\n",
       "       [ 718,  850]], dtype=int64)"
      ]
     },
     "execution_count": 274,
     "metadata": {},
     "output_type": "execute_result"
    }
   ],
   "source": [
    "metrics.confusion_matrix(y_test,y_pred_rf)"
   ]
  },
  {
   "cell_type": "code",
   "execution_count": 275,
   "id": "a0e09709-f462-45ca-a67f-eac2c28bfcf5",
   "metadata": {
    "id": "a0e09709-f462-45ca-a67f-eac2c28bfcf5"
   },
   "outputs": [
    {
     "data": {
      "text/plain": [
       "0.8361738062336864"
      ]
     },
     "execution_count": 275,
     "metadata": {},
     "output_type": "execute_result"
    }
   ],
   "source": [
    "metrics.accuracy_score(y_test,y_pred_rf)"
   ]
  },
  {
   "cell_type": "code",
   "execution_count": 276,
   "id": "45345519-7e0f-471d-90cf-2d11c18c244b",
   "metadata": {
    "id": "45345519-7e0f-471d-90cf-2d11c18c244b"
   },
   "outputs": [
    {
     "data": {
      "text/plain": [
       "0.5420918367346939"
      ]
     },
     "execution_count": 276,
     "metadata": {},
     "output_type": "execute_result"
    }
   ],
   "source": [
    "metrics.recall_score(y_test,y_pred_rf)"
   ]
  },
  {
   "cell_type": "code",
   "execution_count": 277,
   "id": "f5f035fd-0cb9-4232-b921-14d7c7742df1",
   "metadata": {
    "id": "f5f035fd-0cb9-4232-b921-14d7c7742df1"
   },
   "outputs": [
    {
     "data": {
      "text/plain": [
       "0.07664307381193125"
      ]
     },
     "execution_count": 277,
     "metadata": {},
     "output_type": "execute_result"
    }
   ],
   "source": [
    "379/(379+4566)"
   ]
  },
  {
   "cell_type": "code",
   "execution_count": 278,
   "id": "80088906-9ef4-4e4c-a7a8-c0be5d382c16",
   "metadata": {
    "id": "80088906-9ef4-4e4c-a7a8-c0be5d382c16"
   },
   "outputs": [
    {
     "data": {
      "text/plain": [
       "0.7089241034195163"
      ]
     },
     "execution_count": 278,
     "metadata": {},
     "output_type": "execute_result"
    }
   ],
   "source": [
    "metrics.precision_score(y_test,y_pred_rf)"
   ]
  },
  {
   "cell_type": "code",
   "execution_count": 279,
   "id": "059c83b5-0c03-46cf-9f9d-99a34c0979a0",
   "metadata": {
    "id": "059c83b5-0c03-46cf-9f9d-99a34c0979a0"
   },
   "outputs": [
    {
     "data": {
      "text/plain": [
       "0.5420918367346939"
      ]
     },
     "execution_count": 279,
     "metadata": {},
     "output_type": "execute_result"
    }
   ],
   "source": [
    "metrics.recall_score(y_test,y_pred_rf)"
   ]
  },
  {
   "cell_type": "code",
   "execution_count": 377,
   "id": "10e8a3c5-2568-46b6-a7cc-764d5ecdb525",
   "metadata": {},
   "outputs": [
    {
     "data": {
      "text/plain": [
       "0.8361738062336864"
      ]
     },
     "execution_count": 377,
     "metadata": {},
     "output_type": "execute_result"
    }
   ],
   "source": [
    "rf_acc = accuracy_score(y_test,y_pred_rf)\n",
    "result.append(['Random Forest classifier',rf_acc])\n",
    "rf_acc"
   ]
  },
  {
   "cell_type": "markdown",
   "id": "FLkWdCBhHfjk",
   "metadata": {
    "id": "FLkWdCBhHfjk"
   },
   "source": [
    "# Bagging Classifier"
   ]
  },
  {
   "cell_type": "markdown",
   "id": "c53e4367-8c6b-4720-aec5-89da153b6c06",
   "metadata": {},
   "source": [
    "### Bagging classifier using Decision Tree"
   ]
  },
  {
   "cell_type": "code",
   "execution_count": 280,
   "id": "6e091c21-8996-4532-954d-d19634954df7",
   "metadata": {
    "id": "6e091c21-8996-4532-954d-d19634954df7"
   },
   "outputs": [],
   "source": [
    "from sklearn.ensemble import BaggingClassifier"
   ]
  },
  {
   "cell_type": "code",
   "execution_count": 353,
   "id": "dd68d83c-c4d8-4917-80ab-a6de85d7ad0f",
   "metadata": {
    "id": "dd68d83c-c4d8-4917-80ab-a6de85d7ad0f"
   },
   "outputs": [],
   "source": [
    "bg=BaggingClassifier(base_estimator= dt_grid)"
   ]
  },
  {
   "cell_type": "code",
   "execution_count": 354,
   "id": "1c6d236b-b8df-41ce-bbdb-ffab2785bf94",
   "metadata": {
    "id": "1c6d236b-b8df-41ce-bbdb-ffab2785bf94"
   },
   "outputs": [
    {
     "data": {
      "text/plain": [
       "BaggingClassifier(base_estimator=DecisionTreeClassifier(criterion='entropy',\n",
       "                                                        max_depth=11,\n",
       "                                                        min_samples_leaf=4,\n",
       "                                                        min_samples_split=3,\n",
       "                                                        random_state=42))"
      ]
     },
     "execution_count": 354,
     "metadata": {},
     "output_type": "execute_result"
    }
   ],
   "source": [
    "bg.fit(X_train,y_train)"
   ]
  },
  {
   "cell_type": "code",
   "execution_count": 355,
   "id": "177f64cd-38ab-427a-b804-6dd844614aa6",
   "metadata": {
    "id": "177f64cd-38ab-427a-b804-6dd844614aa6"
   },
   "outputs": [],
   "source": [
    "y_pred_bagg=bg.predict(X_test)"
   ]
  },
  {
   "cell_type": "code",
   "execution_count": 356,
   "id": "3acecb5b-c8da-4c07-ab80-463891f63d3c",
   "metadata": {
    "id": "3acecb5b-c8da-4c07-ab80-463891f63d3c"
   },
   "outputs": [
    {
     "data": {
      "text/plain": [
       "array([[4524,  421],\n",
       "       [ 647,  921]], dtype=int64)"
      ]
     },
     "execution_count": 356,
     "metadata": {},
     "output_type": "execute_result"
    }
   ],
   "source": [
    "confusion_matrix(y_test,y_pred_bagg)"
   ]
  },
  {
   "cell_type": "code",
   "execution_count": 357,
   "id": "2496eedc-6f4d-4931-bb3d-7a2537ae66a6",
   "metadata": {
    "id": "2496eedc-6f4d-4931-bb3d-7a2537ae66a6"
   },
   "outputs": [
    {
     "data": {
      "text/plain": [
       "0.8360202671579917"
      ]
     },
     "execution_count": 357,
     "metadata": {},
     "output_type": "execute_result"
    }
   ],
   "source": [
    "metrics.accuracy_score(y_test,y_pred_bagg)"
   ]
  },
  {
   "cell_type": "code",
   "execution_count": 358,
   "id": "49cb5c60-f97a-4a74-b354-581ea9812122",
   "metadata": {
    "id": "49cb5c60-f97a-4a74-b354-581ea9812122"
   },
   "outputs": [
    {
     "data": {
      "text/plain": [
       "0.5873724489795918"
      ]
     },
     "execution_count": 358,
     "metadata": {},
     "output_type": "execute_result"
    }
   ],
   "source": [
    "metrics.recall_score(y_test,y_pred_bagg)"
   ]
  },
  {
   "cell_type": "code",
   "execution_count": 359,
   "id": "1ac84f6e-3aef-4f7d-88f3-a0c3aa512f68",
   "metadata": {
    "id": "1ac84f6e-3aef-4f7d-88f3-a0c3aa512f68"
   },
   "outputs": [
    {
     "data": {
      "text/plain": [
       "0.6862891207153502"
      ]
     },
     "execution_count": 359,
     "metadata": {},
     "output_type": "execute_result"
    }
   ],
   "source": [
    "metrics.precision_score(y_test,y_pred_bagg)"
   ]
  },
  {
   "cell_type": "code",
   "execution_count": 378,
   "id": "7b7a9f0d-3e07-46cc-94d9-bf449e8cc4b3",
   "metadata": {},
   "outputs": [
    {
     "data": {
      "text/plain": [
       "0.8360202671579917"
      ]
     },
     "execution_count": 378,
     "metadata": {},
     "output_type": "execute_result"
    }
   ],
   "source": [
    "bg_acc = accuracy_score(y_test,y_pred_bagg)\n",
    "result.append(['bagging classifier',bg_acc])\n",
    "bg_acc"
   ]
  },
  {
   "cell_type": "markdown",
   "id": "cc1168ee-2006-431b-b8c3-7e1279bb1783",
   "metadata": {},
   "source": [
    "### Bagging classifer using SVC"
   ]
  },
  {
   "cell_type": "code",
   "execution_count": 386,
   "id": "cf6bbb7d-4193-44e8-8c89-947828df5378",
   "metadata": {},
   "outputs": [
    {
     "data": {
      "text/plain": [
       "0.8205128205128205"
      ]
     },
     "execution_count": 386,
     "metadata": {},
     "output_type": "execute_result"
    }
   ],
   "source": [
    "from sklearn.svm import SVC\n",
    "model_bag_svc = BaggingClassifier(base_estimator=SVC(), n_estimators = 50, random_state=0)\n",
    "model_bag_svc.fit(X_train,y_train)\n",
    "y_pred_bag_svc = model_bag_svc.predict(X_test)\n"
   ]
  },
  {
   "cell_type": "code",
   "execution_count": 393,
   "id": "69d46d17-7a3d-46bc-9220-29feee492b81",
   "metadata": {},
   "outputs": [
    {
     "data": {
      "text/plain": [
       "0.8205128205128205"
      ]
     },
     "execution_count": 393,
     "metadata": {},
     "output_type": "execute_result"
    }
   ],
   "source": [
    "bg_svc_acc = accuracy_score(y_test, y_pred_bag_svc)\n",
    "result.append(['Bagging Classifier using SVC',bg_svc_acc])\n",
    "accuracy_score(y_test, y_pred_bag_svc)"
   ]
  },
  {
   "cell_type": "markdown",
   "id": "NG0keWSXVC4S",
   "metadata": {
    "id": "NG0keWSXVC4S"
   },
   "source": [
    "# Boosting"
   ]
  },
  {
   "cell_type": "markdown",
   "id": "IbIIYpgUVICq",
   "metadata": {
    "id": "IbIIYpgUVICq"
   },
   "source": [
    "# AdaBoostClassifier"
   ]
  },
  {
   "cell_type": "code",
   "execution_count": 302,
   "id": "3f294709-cbce-478a-888d-0a42dad48b1f",
   "metadata": {
    "id": "3f294709-cbce-478a-888d-0a42dad48b1f"
   },
   "outputs": [],
   "source": [
    "from sklearn.ensemble import AdaBoostClassifier"
   ]
  },
  {
   "cell_type": "code",
   "execution_count": 303,
   "id": "d7bc08cd-d288-46c0-8fca-2cffb265349d",
   "metadata": {
    "id": "d7bc08cd-d288-46c0-8fca-2cffb265349d"
   },
   "outputs": [],
   "source": [
    "model=AdaBoostClassifier(base_estimator=dt,learning_rate=0.01,n_estimators=25, random_state=42)"
   ]
  },
  {
   "cell_type": "code",
   "execution_count": 304,
   "id": "5dfe74af-3417-4c97-9352-af398ea4945e",
   "metadata": {
    "id": "5dfe74af-3417-4c97-9352-af398ea4945e"
   },
   "outputs": [
    {
     "data": {
      "text/plain": [
       "AdaBoostClassifier(base_estimator=DecisionTreeClassifier(), learning_rate=0.01,\n",
       "                   n_estimators=25, random_state=42)"
      ]
     },
     "execution_count": 304,
     "metadata": {},
     "output_type": "execute_result"
    }
   ],
   "source": [
    "model.fit(X_train,y_train)"
   ]
  },
  {
   "cell_type": "code",
   "execution_count": 305,
   "id": "1db642ad-0b31-4203-ac61-0b87b7bcda27",
   "metadata": {
    "id": "1db642ad-0b31-4203-ac61-0b87b7bcda27"
   },
   "outputs": [],
   "source": [
    "y_pred_boosted=model.predict(X_test)"
   ]
  },
  {
   "cell_type": "code",
   "execution_count": 306,
   "id": "b765baa1-5b06-42c0-9050-edd491c7bb11",
   "metadata": {
    "id": "b765baa1-5b06-42c0-9050-edd491c7bb11"
   },
   "outputs": [
    {
     "data": {
      "text/plain": [
       "array([[4331,  614],\n",
       "       [ 714,  854]], dtype=int64)"
      ]
     },
     "execution_count": 306,
     "metadata": {},
     "output_type": "execute_result"
    }
   ],
   "source": [
    "metrics.confusion_matrix(y_test,y_pred_boosted)"
   ]
  },
  {
   "cell_type": "code",
   "execution_count": 307,
   "id": "0d65fa49-6d2a-4c47-b1f0-b4f9a742533a",
   "metadata": {
    "id": "0d65fa49-6d2a-4c47-b1f0-b4f9a742533a"
   },
   "outputs": [
    {
     "data": {
      "text/plain": [
       "0.7961001074773529"
      ]
     },
     "execution_count": 307,
     "metadata": {},
     "output_type": "execute_result"
    }
   ],
   "source": [
    "metrics.accuracy_score(y_test,y_pred_boosted)"
   ]
  },
  {
   "cell_type": "code",
   "execution_count": 308,
   "id": "24b6e3f7-62d5-4b5a-b5ee-6e48f1507cd4",
   "metadata": {
    "id": "24b6e3f7-62d5-4b5a-b5ee-6e48f1507cd4"
   },
   "outputs": [
    {
     "data": {
      "text/plain": [
       "0.5817438692098093"
      ]
     },
     "execution_count": 308,
     "metadata": {},
     "output_type": "execute_result"
    }
   ],
   "source": [
    "metrics.precision_score(y_test,y_pred_boosted)\n"
   ]
  },
  {
   "cell_type": "code",
   "execution_count": 309,
   "id": "6607e432-e17b-405f-a2e8-ddf87ee4ab62",
   "metadata": {
    "id": "6607e432-e17b-405f-a2e8-ddf87ee4ab62"
   },
   "outputs": [
    {
     "data": {
      "text/plain": [
       "0.5446428571428571"
      ]
     },
     "execution_count": 309,
     "metadata": {},
     "output_type": "execute_result"
    }
   ],
   "source": [
    "metrics.recall_score(y_test,y_pred_boosted)\n"
   ]
  },
  {
   "cell_type": "code",
   "execution_count": 310,
   "id": "b0404a63-42ad-4666-9066-6e04fad840ec",
   "metadata": {
    "id": "b0404a63-42ad-4666-9066-6e04fad840ec"
   },
   "outputs": [
    {
     "data": {
      "text/plain": [
       "0.0833164812942366"
      ]
     },
     "execution_count": 310,
     "metadata": {},
     "output_type": "execute_result"
    }
   ],
   "source": [
    "412/(412+4533)"
   ]
  },
  {
   "cell_type": "code",
   "execution_count": 311,
   "id": "5d961aad-045e-45b7-a921-4a195b8e7e7c",
   "metadata": {
    "id": "5d961aad-045e-45b7-a921-4a195b8e7e7c"
   },
   "outputs": [
    {
     "data": {
      "text/plain": [
       "0.7102385165390726"
      ]
     },
     "execution_count": 311,
     "metadata": {},
     "output_type": "execute_result"
    }
   ],
   "source": [
    "metrics.roc_auc_score(y_test,y_pred_boosted)"
   ]
  },
  {
   "cell_type": "code",
   "execution_count": 379,
   "id": "df89e2de-fccb-4262-a19a-b78586a0d237",
   "metadata": {},
   "outputs": [
    {
     "data": {
      "text/plain": [
       "0.7961001074773529"
      ]
     },
     "execution_count": 379,
     "metadata": {},
     "output_type": "execute_result"
    }
   ],
   "source": [
    "ab_acc = accuracy_score(y_test,y_pred_boosted)\n",
    "result.append(['AdaBoost classifier',ab_acc])\n",
    "ab_acc"
   ]
  },
  {
   "cell_type": "markdown",
   "id": "7sVhCiG3VMEs",
   "metadata": {
    "id": "7sVhCiG3VMEs"
   },
   "source": [
    "# Gradient Boosting Classifier"
   ]
  },
  {
   "cell_type": "code",
   "execution_count": 312,
   "id": "3fa0138d-519d-4ce1-b88e-41d8219ff0ab",
   "metadata": {
    "id": "3fa0138d-519d-4ce1-b88e-41d8219ff0ab"
   },
   "outputs": [],
   "source": [
    "from sklearn.ensemble import GradientBoostingClassifier"
   ]
  },
  {
   "cell_type": "code",
   "execution_count": 313,
   "id": "b8f43724-ebb4-4253-ba7c-02fb0701fb54",
   "metadata": {
    "id": "b8f43724-ebb4-4253-ba7c-02fb0701fb54"
   },
   "outputs": [],
   "source": [
    "gbrt = GradientBoostingClassifier(max_depth = 3,n_estimators = 100,random_state=40,learning_rate = 0.1)"
   ]
  },
  {
   "cell_type": "code",
   "execution_count": 314,
   "id": "251a4b3e-ffe7-432d-9f2d-49582797cdf9",
   "metadata": {
    "id": "251a4b3e-ffe7-432d-9f2d-49582797cdf9"
   },
   "outputs": [
    {
     "data": {
      "text/plain": [
       "GridSearchCV(cv=10, estimator=GradientBoostingClassifier(random_state=42),\n",
       "             param_grid={'learning_rate': [0.01, 0.1, 0.2, 0.5, 1],\n",
       "                         'loss': ('deviance', 'exponential'),\n",
       "                         'max_depth': [1, 2, 3, 4, 5],\n",
       "                         'n_estimators': [50, 75, 100, 125, 150, 175, 200]})"
      ]
     },
     "execution_count": 314,
     "metadata": {},
     "output_type": "execute_result"
    }
   ],
   "source": [
    "param = {'max_depth' : [1,2,3,4,5],\n",
    "        'n_estimators' : [50,75,100,125,150,175,200],\n",
    "         'loss' : ('deviance', 'exponential'),\n",
    "        'learning_rate' : [0.01,0.1,0.2,0.5,1]}\n",
    "grid_search_cv = GridSearchCV(GradientBoostingClassifier(random_state=42),\n",
    "                             param,cv=10)\n",
    "grid_search_cv.fit(X_train,y_train)"
   ]
  },
  {
   "cell_type": "code",
   "execution_count": 315,
   "id": "ad821739-a36e-4946-af7c-42119d25f892",
   "metadata": {
    "id": "ad821739-a36e-4946-af7c-42119d25f892"
   },
   "outputs": [
    {
     "data": {
      "text/plain": [
       "{'learning_rate': 0.1, 'loss': 'deviance', 'max_depth': 5, 'n_estimators': 75}"
      ]
     },
     "execution_count": 315,
     "metadata": {},
     "output_type": "execute_result"
    }
   ],
   "source": [
    "grid_search_cv.best_params_"
   ]
  },
  {
   "cell_type": "code",
   "execution_count": 316,
   "id": "d3d0dae5-5862-4cbb-92e8-4ed7e83fbaf9",
   "metadata": {},
   "outputs": [
    {
     "data": {
      "text/plain": [
       "GridSearchCV(cv=10, estimator=GradientBoostingClassifier(random_state=42),\n",
       "             param_grid={'learning_rate': [0.01, 0.1, 0.2, 0.5, 1],\n",
       "                         'loss': ('deviance', 'exponential'),\n",
       "                         'max_depth': [1, 2, 3, 4, 5],\n",
       "                         'n_estimators': [50, 75, 100, 125, 150, 175, 200]})"
      ]
     },
     "execution_count": 316,
     "metadata": {},
     "output_type": "execute_result"
    }
   ],
   "source": [
    "grid_search_cv.fit(X_train,y_train)"
   ]
  },
  {
   "cell_type": "code",
   "execution_count": 318,
   "id": "e964b2a4-745b-4deb-aec3-6a20eb5d74dd",
   "metadata": {},
   "outputs": [],
   "source": [
    "y_test_pred_gbc=grid_search_cv.predict(X_test)"
   ]
  },
  {
   "cell_type": "code",
   "execution_count": 380,
   "id": "cb536ded-3828-4c84-95ee-922e266e5066",
   "metadata": {},
   "outputs": [
    {
     "data": {
      "text/plain": [
       "0.8404729003531399"
      ]
     },
     "execution_count": 380,
     "metadata": {},
     "output_type": "execute_result"
    }
   ],
   "source": [
    "gb_acc = accuracy_score(y_test,y_test_pred_gbc)\n",
    "result.append(['Gradient Boosting Classifier', gb_acc])\n",
    "gb_acc"
   ]
  },
  {
   "cell_type": "markdown",
   "id": "sLkWUSqDZM2P",
   "metadata": {
    "id": "sLkWUSqDZM2P"
   },
   "source": [
    "# Xtreme Gradient Boosting Classifier"
   ]
  },
  {
   "cell_type": "code",
   "execution_count": 364,
   "id": "c121bb71-8c01-42c0-9bd9-5157e093764e",
   "metadata": {
    "id": "c121bb71-8c01-42c0-9bd9-5157e093764e"
   },
   "outputs": [
    {
     "name": "stdout",
     "output_type": "stream",
     "text": [
      "[15:46:02] WARNING: ..\\src\\learner.cc:1115: Starting in XGBoost 1.3.0, the default evaluation metric used with the objective 'binary:logistic' was changed from 'error' to 'logloss'. Explicitly set eval_metric if you'd like to restore the old behavior.\n",
      "Train R2 score 0.16007096413642807\n",
      "Test R2 score 0.12558126637915024\n"
     ]
    }
   ],
   "source": [
    "from xgboost.sklearn import XGBClassifier\n",
    "\n",
    "xgb_clf = XGBClassifier(random_state=42,max_depth = 5,n_estimators = 75, learning_rate = 0.1)\n",
    "\n",
    "xgb_clf.fit(X_train,y_train)\n",
    "y_tr_predict = xgb_clf.predict(X_train)\n",
    "print(\"Train R2 score\",metrics.r2_score(y_train,y_tr_predict))\n",
    "y_xgb_predict = xgb_clf.predict(X_test)\n",
    "print(\"Test R2 score\",metrics.r2_score(y_test,y_xgb_predict))\n"
   ]
  },
  {
   "cell_type": "markdown",
   "id": "a3de29ab-5535-48c3-bf32-1873a0a325c5",
   "metadata": {},
   "source": [
    "# Extra trees classifier"
   ]
  },
  {
   "cell_type": "code",
   "execution_count": 319,
   "id": "1e2fd296-1c31-48fc-8332-65d07f1d7fec",
   "metadata": {},
   "outputs": [],
   "source": [
    "from sklearn.ensemble import ExtraTreesClassifier\n",
    "et_model = ExtraTreesClassifier()"
   ]
  },
  {
   "cell_type": "code",
   "execution_count": 320,
   "id": "c6746f3d-c9e0-473c-bf86-a732acf8d1df",
   "metadata": {},
   "outputs": [
    {
     "data": {
      "text/plain": [
       "ExtraTreesClassifier()"
      ]
     },
     "execution_count": 320,
     "metadata": {},
     "output_type": "execute_result"
    }
   ],
   "source": [
    "et_model.fit(X_train,y_train)"
   ]
  },
  {
   "cell_type": "code",
   "execution_count": 321,
   "id": "6dbc8927-439b-4d4f-adf3-2bf47ed2d0d6",
   "metadata": {},
   "outputs": [],
   "source": [
    "y_pred_et = et_model.predict(X_test)"
   ]
  },
  {
   "cell_type": "code",
   "execution_count": 381,
   "id": "5b538912-4ffc-4eb9-907d-f11455160f8d",
   "metadata": {},
   "outputs": [
    {
     "data": {
      "text/plain": [
       "0.8023952095808383"
      ]
     },
     "execution_count": 381,
     "metadata": {},
     "output_type": "execute_result"
    }
   ],
   "source": [
    "et_acc = accuracy_score(y_test,y_pred_et)\n",
    "result.append(['Extra Trees Classifier', et_acc])\n",
    "accuracy_score(y_test,y_pred_et)"
   ]
  },
  {
   "cell_type": "markdown",
   "id": "61d26663-b59a-4f4a-8c53-ed28d6ab6b5e",
   "metadata": {},
   "source": [
    "# Voting Classifier"
   ]
  },
  {
   "cell_type": "code",
   "execution_count": 388,
   "id": "58e49c5f-52c3-47af-a96f-6b0c5f7cb90d",
   "metadata": {},
   "outputs": [],
   "source": [
    "from sklearn.ensemble import VotingClassifier\n",
    "\n",
    "LR=LogisticRegression(penalty='l2',solver='newton-cg',random_state=42)\n",
    "knn=KNeighborsClassifier(metric= 'minkowski', n_neighbors= 45, p=1, weights= 'uniform')\n",
    "dt_grid=DecisionTreeClassifier(criterion= 'entropy', max_depth=11, min_samples_split=3,min_samples_leaf= 4,random_state=42)\n",
    "rf=RandomForestClassifier(n_estimators=81,criterion='gini', max_depth=11, min_samples_split= 5,min_samples_leaf= 2)\n",
    "bg=BaggingClassifier(base_estimator= dt_grid)\n",
    "model_bag_svc = BaggingClassifier(base_estimator=SVC(), n_estimators = 50, random_state=42)\n",
    "adaboost=AdaBoostClassifier(base_estimator=dt,learning_rate=0.01,n_estimators=25, random_state=42)\n",
    "gbrt = GradientBoostingClassifier(max_depth = 5,n_estimators = 75,random_state=40, learning_rate = 0.1)\n",
    "\n",
    "vot_clf = VotingClassifier(estimators= [('lr',LR),\n",
    "                                        ('K-nearest neighbor',knn),\n",
    "                                        ('dt',dt_grid),\n",
    "                                       ('rf',rf),\n",
    "                                       ('bagging using decision tree',bg),\n",
    "                                        ('bagging using SVC',model_bag_svc),\n",
    "                                       ('adaboost',adaboost),\n",
    "                                       ('gradient Boosting',gbrt)\n",
    "                                       ], voting = 'hard', n_jobs=-1)"
   ]
  },
  {
   "cell_type": "code",
   "execution_count": 389,
   "id": "03ad1c57-255b-40d9-83b1-5d597b01b5b0",
   "metadata": {},
   "outputs": [
    {
     "data": {
      "text/plain": [
       "VotingClassifier(estimators=[('lr',\n",
       "                              LogisticRegression(random_state=42,\n",
       "                                                 solver='newton-cg')),\n",
       "                             ('K-nearest neighbor',\n",
       "                              KNeighborsClassifier(n_neighbors=45, p=1)),\n",
       "                             ('dt',\n",
       "                              DecisionTreeClassifier(criterion='entropy',\n",
       "                                                     max_depth=11,\n",
       "                                                     min_samples_leaf=4,\n",
       "                                                     min_samples_split=3,\n",
       "                                                     random_state=42)),\n",
       "                             ('rf',\n",
       "                              RandomForestClassifier(max_depth=11,\n",
       "                                                     min_samples_leaf=2,\n",
       "                                                     min_samples_spli...\n",
       "                                                                                      min_samples_split=3,\n",
       "                                                                                      random_state=42))),\n",
       "                             ('bagging using SVC',\n",
       "                              BaggingClassifier(base_estimator=SVC(),\n",
       "                                                n_estimators=50,\n",
       "                                                random_state=42)),\n",
       "                             ('adaboost',\n",
       "                              AdaBoostClassifier(base_estimator=DecisionTreeClassifier(),\n",
       "                                                 learning_rate=0.01,\n",
       "                                                 n_estimators=25,\n",
       "                                                 random_state=42)),\n",
       "                             ('gradient Boosting',\n",
       "                              GradientBoostingClassifier(max_depth=5,\n",
       "                                                         n_estimators=75,\n",
       "                                                         random_state=40))],\n",
       "                 n_jobs=-1)"
      ]
     },
     "execution_count": 389,
     "metadata": {},
     "output_type": "execute_result"
    }
   ],
   "source": [
    "vot_clf.fit(X_train,y_train)"
   ]
  },
  {
   "cell_type": "code",
   "execution_count": 390,
   "id": "5e2dae14-c817-4f7c-b234-a3ef25ad46c9",
   "metadata": {},
   "outputs": [],
   "source": [
    "y_pred_votting = vot_clf.predict(X_test)"
   ]
  },
  {
   "cell_type": "code",
   "execution_count": 395,
   "id": "9993588b-5c22-42ab-8918-2fa2ea2e6df3",
   "metadata": {},
   "outputs": [
    {
     "data": {
      "text/plain": [
       "0.8343313373253493"
      ]
     },
     "execution_count": 395,
     "metadata": {},
     "output_type": "execute_result"
    }
   ],
   "source": [
    "vc_acc = accuracy_score(y_test,y_pred_votting)\n",
    "result.append(['Voting Classifier',vc_acc])\n",
    "accuracy_score(y_test,y_pred_votting)"
   ]
  },
  {
   "cell_type": "code",
   "execution_count": 396,
   "id": "cd03a9f3-5953-45b6-a055-12501f6a98df",
   "metadata": {},
   "outputs": [
    {
     "data": {
      "text/plain": [
       "[['Logistic Regression', 0.8043912175648703],\n",
       " ['K- nearest neighbor', 0.8284968524489482],\n",
       " ['Decision Tree  classifier', 0.826654383540611],\n",
       " ['Random Forest classifier', 0.8361738062336864],\n",
       " ['bagging classifier', 0.8360202671579917],\n",
       " ['AdaBoost classifier', 0.7961001074773529],\n",
       " ['Gradient Boosting Classifier', 0.8404729003531399],\n",
       " ['Extra Trees Classifier', 0.8023952095808383],\n",
       " ['Bagging Classifier using SVC', 0.8205128205128205],\n",
       " ['Voting Classifier', 0.8343313373253493]]"
      ]
     },
     "execution_count": 396,
     "metadata": {},
     "output_type": "execute_result"
    }
   ],
   "source": [
    "result"
   ]
  },
  {
   "cell_type": "code",
   "execution_count": 397,
   "id": "eb74cf02-a8dc-4a7f-8eba-fa57e1e9273d",
   "metadata": {},
   "outputs": [],
   "source": [
    "report = pd.DataFrame(result, columns = ['Classifier','Accuracy'])"
   ]
  },
  {
   "cell_type": "code",
   "execution_count": 398,
   "id": "a8457742-9767-4c47-bb39-debc4f676443",
   "metadata": {},
   "outputs": [
    {
     "data": {
      "text/html": [
       "<div>\n",
       "<style scoped>\n",
       "    .dataframe tbody tr th:only-of-type {\n",
       "        vertical-align: middle;\n",
       "    }\n",
       "\n",
       "    .dataframe tbody tr th {\n",
       "        vertical-align: top;\n",
       "    }\n",
       "\n",
       "    .dataframe thead th {\n",
       "        text-align: right;\n",
       "    }\n",
       "</style>\n",
       "<table border=\"1\" class=\"dataframe\">\n",
       "  <thead>\n",
       "    <tr style=\"text-align: right;\">\n",
       "      <th></th>\n",
       "      <th>Classifier</th>\n",
       "      <th>Accuracy</th>\n",
       "    </tr>\n",
       "  </thead>\n",
       "  <tbody>\n",
       "    <tr>\n",
       "      <th>6</th>\n",
       "      <td>Gradient Boosting Classifier</td>\n",
       "      <td>0.840473</td>\n",
       "    </tr>\n",
       "    <tr>\n",
       "      <th>3</th>\n",
       "      <td>Random Forest classifier</td>\n",
       "      <td>0.836174</td>\n",
       "    </tr>\n",
       "    <tr>\n",
       "      <th>4</th>\n",
       "      <td>bagging classifier</td>\n",
       "      <td>0.836020</td>\n",
       "    </tr>\n",
       "    <tr>\n",
       "      <th>9</th>\n",
       "      <td>Voting Classifier</td>\n",
       "      <td>0.834331</td>\n",
       "    </tr>\n",
       "    <tr>\n",
       "      <th>1</th>\n",
       "      <td>K- nearest neighbor</td>\n",
       "      <td>0.828497</td>\n",
       "    </tr>\n",
       "    <tr>\n",
       "      <th>2</th>\n",
       "      <td>Decision Tree  classifier</td>\n",
       "      <td>0.826654</td>\n",
       "    </tr>\n",
       "    <tr>\n",
       "      <th>8</th>\n",
       "      <td>Bagging Classifier using SVC</td>\n",
       "      <td>0.820513</td>\n",
       "    </tr>\n",
       "    <tr>\n",
       "      <th>0</th>\n",
       "      <td>Logistic Regression</td>\n",
       "      <td>0.804391</td>\n",
       "    </tr>\n",
       "    <tr>\n",
       "      <th>7</th>\n",
       "      <td>Extra Trees Classifier</td>\n",
       "      <td>0.802395</td>\n",
       "    </tr>\n",
       "    <tr>\n",
       "      <th>5</th>\n",
       "      <td>AdaBoost classifier</td>\n",
       "      <td>0.796100</td>\n",
       "    </tr>\n",
       "  </tbody>\n",
       "</table>\n",
       "</div>"
      ],
      "text/plain": [
       "                     Classifier  Accuracy\n",
       "6  Gradient Boosting Classifier  0.840473\n",
       "3      Random Forest classifier  0.836174\n",
       "4            bagging classifier  0.836020\n",
       "9             Voting Classifier  0.834331\n",
       "1           K- nearest neighbor  0.828497\n",
       "2     Decision Tree  classifier  0.826654\n",
       "8  Bagging Classifier using SVC  0.820513\n",
       "0           Logistic Regression  0.804391\n",
       "7        Extra Trees Classifier  0.802395\n",
       "5           AdaBoost classifier  0.796100"
      ]
     },
     "execution_count": 398,
     "metadata": {},
     "output_type": "execute_result"
    }
   ],
   "source": [
    "report.sort_values(by = \"Accuracy\",ascending = False)"
   ]
  },
  {
   "cell_type": "markdown",
   "id": "23cd41e4-a557-4ab8-84ec-28747f6307ca",
   "metadata": {},
   "source": [
    "### Conclusion:\n",
    "* Gradient Boosting Classifier has performed better amongst all the classifiers\n",
    "* It has given 84% accuracy"
   ]
  },
  {
   "cell_type": "code",
   "execution_count": null,
   "id": "a2e3c206-2339-4956-bf23-86cbb21c8f3f",
   "metadata": {},
   "outputs": [],
   "source": []
  }
 ],
 "metadata": {
  "accelerator": "GPU",
  "colab": {
   "provenance": []
  },
  "gpuClass": "standard",
  "kernelspec": {
   "display_name": "Python 3 (ipykernel)",
   "language": "python",
   "name": "python3"
  },
  "language_info": {
   "codemirror_mode": {
    "name": "ipython",
    "version": 3
   },
   "file_extension": ".py",
   "mimetype": "text/x-python",
   "name": "python",
   "nbconvert_exporter": "python",
   "pygments_lexer": "ipython3",
   "version": "3.9.13"
  }
 },
 "nbformat": 4,
 "nbformat_minor": 5
}
